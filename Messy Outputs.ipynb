{
 "cells": [
  {
   "cell_type": "code",
   "execution_count": 1,
   "metadata": {
    "collapsed": true
   },
   "outputs": [],
   "source": [
    "import pandas as pd\n",
    "import numpy as np\n",
    "import statistics as stat\n",
    "from lxml import html\n",
    "import requests\n",
    "from bs4 import BeautifulSoup\n",
    "import csv\n",
    "import re\n",
    "import nltk\n",
    "import warnings\n",
    "warnings.filterwarnings('ignore')\n",
    "from nltk.sentiment.vader import SentimentIntensityAnalyzer\n",
    "#nltk.download('vader_lexicon')\n",
    "\n",
    "\n",
    "%matplotlib inline"
   ]
  },
  {
   "cell_type": "code",
   "execution_count": 2,
   "metadata": {
    "collapsed": true
   },
   "outputs": [],
   "source": [
    "import requests\n",
    "from requests.adapters import HTTPAdapter\n",
    "from requests.packages.urllib3.util.retry import Retry\n",
    "\n",
    "\n",
    "def requests_retry_session(\n",
    "    retries=30,\n",
    "    backoff_factor=0.3,\n",
    "    status_forcelist=(500, 502, 504),\n",
    "    session=None,\n",
    "):\n",
    "    session = session or requests.Session()\n",
    "    retry = Retry(\n",
    "        total=retries,\n",
    "        read=retries,\n",
    "        connect=retries,\n",
    "        backoff_factor=backoff_factor,\n",
    "        status_forcelist=status_forcelist,\n",
    "    )\n",
    "    adapter = HTTPAdapter(max_retries=retry)\n",
    "    session.mount('http://', adapter)\n",
    "    session.mount('https://', adapter)\n",
    "    return session"
   ]
  },
  {
   "cell_type": "code",
   "execution_count": 3,
   "metadata": {
    "collapsed": true
   },
   "outputs": [],
   "source": [
    "def remove_html_tags(text):\n",
    "    \"\"\"Remove html tags from a string\"\"\"\n",
    "    clean = re.compile('<.*?>')\n",
    "    text_nt = re.sub(clean, '', text)\n",
    "    return text_nt"
   ]
  },
  {
   "cell_type": "code",
   "execution_count": 4,
   "metadata": {
    "collapsed": true
   },
   "outputs": [],
   "source": [
    "def sentiment_comment_text(url):\n",
    "    \"\"\"Takes Lobste'rs URL and returns sentiment score and text of post comments\"\"\"\n",
    "    page = requests_retry_session().get(url)\n",
    "    #brew the soup\n",
    "    soup = BeautifulSoup(page.text)\n",
    "    #find all comments on Lobste.rs post\n",
    "    comment_text = str(soup.find_all('p'))\n",
    "    #get rid of html tags\n",
    "    comment_text = remove_html_tags(comment_text)\n",
    "    sia = SentimentIntensityAnalyzer()\n",
    "    #run the sentiment analysis\n",
    "    sentiment_score = sia.polarity_scores(comment_text)['compound']\n",
    "    return pd.Series((comment_text, sentiment_score ))"
   ]
  },
  {
   "cell_type": "code",
   "execution_count": 5,
   "metadata": {
    "collapsed": true
   },
   "outputs": [],
   "source": [
    "df = pd.read_csv('C:/Users/sam_a/Downloads/uf-data-analytics-project/lobsters_full_2017_cleaned.csv', index_col='Unnamed: 0')"
   ]
  },
  {
   "cell_type": "code",
   "execution_count": 6,
   "metadata": {
    "collapsed": true
   },
   "outputs": [],
   "source": [
    "#add new engagement score column\n",
    "df[\"engagement_score\"] = df[\"upvotes\"] + df[\"downvotes\"] + df[\"comment_count\"]"
   ]
  },
  {
   "cell_type": "code",
   "execution_count": 7,
   "metadata": {},
   "outputs": [
    {
     "data": {
      "text/html": [
       "<div>\n",
       "<style>\n",
       "    .dataframe thead tr:only-child th {\n",
       "        text-align: right;\n",
       "    }\n",
       "\n",
       "    .dataframe thead th {\n",
       "        text-align: left;\n",
       "    }\n",
       "\n",
       "    .dataframe tbody tr th {\n",
       "        vertical-align: top;\n",
       "    }\n",
       "</style>\n",
       "<table border=\"1\" class=\"dataframe\">\n",
       "  <thead>\n",
       "    <tr style=\"text-align: right;\">\n",
       "      <th></th>\n",
       "      <th>comment_count</th>\n",
       "      <th>comments_url</th>\n",
       "      <th>created_at</th>\n",
       "      <th>description</th>\n",
       "      <th>downvotes</th>\n",
       "      <th>score</th>\n",
       "      <th>short_id_url</th>\n",
       "      <th>tags</th>\n",
       "      <th>title</th>\n",
       "      <th>upvotes</th>\n",
       "      <th>...</th>\n",
       "      <th>vim</th>\n",
       "      <th>virtualization</th>\n",
       "      <th>visualization</th>\n",
       "      <th>web</th>\n",
       "      <th>windows</th>\n",
       "      <th>created_hour</th>\n",
       "      <th>created_dow</th>\n",
       "      <th>created_year</th>\n",
       "      <th>scaled_title_popularity</th>\n",
       "      <th>engagement_score</th>\n",
       "    </tr>\n",
       "  </thead>\n",
       "  <tbody>\n",
       "    <tr>\n",
       "      <th>000yx1</th>\n",
       "      <td>2</td>\n",
       "      <td>https://lobste.rs/s/000yx1/analysis_soviet_smo...</td>\n",
       "      <td>2017-02-10 14:00:25</td>\n",
       "      <td>NaN</td>\n",
       "      <td>0</td>\n",
       "      <td>22</td>\n",
       "      <td>https://lobste.rs/s/000yx1</td>\n",
       "      <td>['hardware', 'historical', 'science']</td>\n",
       "      <td>Analysis of Soviet smoke detector plutonium</td>\n",
       "      <td>22</td>\n",
       "      <td>...</td>\n",
       "      <td>0.0</td>\n",
       "      <td>0.0</td>\n",
       "      <td>0.0</td>\n",
       "      <td>0.0</td>\n",
       "      <td>0.0</td>\n",
       "      <td>14</td>\n",
       "      <td>4</td>\n",
       "      <td>2017</td>\n",
       "      <td>0.053848</td>\n",
       "      <td>24</td>\n",
       "    </tr>\n",
       "    <tr>\n",
       "      <th>001m4w</th>\n",
       "      <td>1</td>\n",
       "      <td>https://lobste.rs/s/001m4w/twitter_already_usi...</td>\n",
       "      <td>2014-11-17 13:20:20</td>\n",
       "      <td>NaN</td>\n",
       "      <td>0</td>\n",
       "      <td>3</td>\n",
       "      <td>https://lobste.rs/s/001m4w</td>\n",
       "      <td>['networking', 'privacy']</td>\n",
       "      <td>Twitter Already Using Verizon's ID to Track Users</td>\n",
       "      <td>3</td>\n",
       "      <td>...</td>\n",
       "      <td>0.0</td>\n",
       "      <td>0.0</td>\n",
       "      <td>0.0</td>\n",
       "      <td>0.0</td>\n",
       "      <td>0.0</td>\n",
       "      <td>13</td>\n",
       "      <td>0</td>\n",
       "      <td>2014</td>\n",
       "      <td>0.249789</td>\n",
       "      <td>4</td>\n",
       "    </tr>\n",
       "    <tr>\n",
       "      <th>002cgs</th>\n",
       "      <td>2</td>\n",
       "      <td>https://lobste.rs/s/002cgs/resilience_ruby</td>\n",
       "      <td>2017-04-18 18:02:19</td>\n",
       "      <td>NaN</td>\n",
       "      <td>0</td>\n",
       "      <td>12</td>\n",
       "      <td>https://lobste.rs/s/002cgs</td>\n",
       "      <td>['programming', 'ruby']</td>\n",
       "      <td>Resilience in Ruby</td>\n",
       "      <td>12</td>\n",
       "      <td>...</td>\n",
       "      <td>0.0</td>\n",
       "      <td>0.0</td>\n",
       "      <td>0.0</td>\n",
       "      <td>0.0</td>\n",
       "      <td>0.0</td>\n",
       "      <td>18</td>\n",
       "      <td>1</td>\n",
       "      <td>2017</td>\n",
       "      <td>0.102904</td>\n",
       "      <td>14</td>\n",
       "    </tr>\n",
       "    <tr>\n",
       "      <th>006hat</th>\n",
       "      <td>0</td>\n",
       "      <td>https://lobste.rs/s/006hat/hacking_linksys_wmb54g</td>\n",
       "      <td>2012-07-13 15:28:05</td>\n",
       "      <td>NaN</td>\n",
       "      <td>0</td>\n",
       "      <td>7</td>\n",
       "      <td>https://lobste.rs/s/006hat</td>\n",
       "      <td>['hardware', 'security']</td>\n",
       "      <td>Hacking the Linksys WMB54G</td>\n",
       "      <td>7</td>\n",
       "      <td>...</td>\n",
       "      <td>0.0</td>\n",
       "      <td>0.0</td>\n",
       "      <td>0.0</td>\n",
       "      <td>0.0</td>\n",
       "      <td>0.0</td>\n",
       "      <td>15</td>\n",
       "      <td>4</td>\n",
       "      <td>2012</td>\n",
       "      <td>0.030448</td>\n",
       "      <td>7</td>\n",
       "    </tr>\n",
       "    <tr>\n",
       "      <th>00adts</th>\n",
       "      <td>1</td>\n",
       "      <td>https://lobste.rs/s/00adts/dying_art_mental_ma...</td>\n",
       "      <td>2016-01-13 10:10:04</td>\n",
       "      <td>NaN</td>\n",
       "      <td>0</td>\n",
       "      <td>7</td>\n",
       "      <td>https://lobste.rs/s/00adts</td>\n",
       "      <td>['math']</td>\n",
       "      <td>The Dying Art of Mental Math Tricks</td>\n",
       "      <td>7</td>\n",
       "      <td>...</td>\n",
       "      <td>0.0</td>\n",
       "      <td>0.0</td>\n",
       "      <td>0.0</td>\n",
       "      <td>0.0</td>\n",
       "      <td>0.0</td>\n",
       "      <td>10</td>\n",
       "      <td>2</td>\n",
       "      <td>2016</td>\n",
       "      <td>0.049901</td>\n",
       "      <td>8</td>\n",
       "    </tr>\n",
       "  </tbody>\n",
       "</table>\n",
       "<p>5 rows × 114 columns</p>\n",
       "</div>"
      ],
      "text/plain": [
       "        comment_count                                       comments_url  \\\n",
       "000yx1              2  https://lobste.rs/s/000yx1/analysis_soviet_smo...   \n",
       "001m4w              1  https://lobste.rs/s/001m4w/twitter_already_usi...   \n",
       "002cgs              2         https://lobste.rs/s/002cgs/resilience_ruby   \n",
       "006hat              0  https://lobste.rs/s/006hat/hacking_linksys_wmb54g   \n",
       "00adts              1  https://lobste.rs/s/00adts/dying_art_mental_ma...   \n",
       "\n",
       "                 created_at description  downvotes  score  \\\n",
       "000yx1  2017-02-10 14:00:25         NaN          0     22   \n",
       "001m4w  2014-11-17 13:20:20         NaN          0      3   \n",
       "002cgs  2017-04-18 18:02:19         NaN          0     12   \n",
       "006hat  2012-07-13 15:28:05         NaN          0      7   \n",
       "00adts  2016-01-13 10:10:04         NaN          0      7   \n",
       "\n",
       "                      short_id_url                                   tags  \\\n",
       "000yx1  https://lobste.rs/s/000yx1  ['hardware', 'historical', 'science']   \n",
       "001m4w  https://lobste.rs/s/001m4w              ['networking', 'privacy']   \n",
       "002cgs  https://lobste.rs/s/002cgs                ['programming', 'ruby']   \n",
       "006hat  https://lobste.rs/s/006hat               ['hardware', 'security']   \n",
       "00adts  https://lobste.rs/s/00adts                               ['math']   \n",
       "\n",
       "                                                    title  upvotes  \\\n",
       "000yx1        Analysis of Soviet smoke detector plutonium       22   \n",
       "001m4w  Twitter Already Using Verizon's ID to Track Users        3   \n",
       "002cgs                                 Resilience in Ruby       12   \n",
       "006hat                         Hacking the Linksys WMB54G        7   \n",
       "00adts                The Dying Art of Mental Math Tricks        7   \n",
       "\n",
       "             ...         vim virtualization visualization  web windows  \\\n",
       "000yx1       ...         0.0            0.0           0.0  0.0     0.0   \n",
       "001m4w       ...         0.0            0.0           0.0  0.0     0.0   \n",
       "002cgs       ...         0.0            0.0           0.0  0.0     0.0   \n",
       "006hat       ...         0.0            0.0           0.0  0.0     0.0   \n",
       "00adts       ...         0.0            0.0           0.0  0.0     0.0   \n",
       "\n",
       "        created_hour  created_dow  created_year scaled_title_popularity  \\\n",
       "000yx1            14            4          2017                0.053848   \n",
       "001m4w            13            0          2014                0.249789   \n",
       "002cgs            18            1          2017                0.102904   \n",
       "006hat            15            4          2012                0.030448   \n",
       "00adts            10            2          2016                0.049901   \n",
       "\n",
       "       engagement_score  \n",
       "000yx1               24  \n",
       "001m4w                4  \n",
       "002cgs               14  \n",
       "006hat                7  \n",
       "00adts                8  \n",
       "\n",
       "[5 rows x 114 columns]"
      ]
     },
     "execution_count": 7,
     "metadata": {},
     "output_type": "execute_result"
    }
   ],
   "source": [
    "df.head()"
   ]
  },
  {
   "cell_type": "code",
   "execution_count": 8,
   "metadata": {
    "collapsed": true
   },
   "outputs": [],
   "source": [
    "#save original df\n",
    "og_df = df"
   ]
  },
  {
   "cell_type": "code",
   "execution_count": 9,
   "metadata": {},
   "outputs": [
    {
     "data": {
      "text/plain": [
       "<matplotlib.axes._subplots.AxesSubplot at 0x2567f910e80>"
      ]
     },
     "execution_count": 9,
     "metadata": {},
     "output_type": "execute_result"
    },
    {
     "data": {
      "image/png": "[encoded data removed]",
      "text/plain": [
       "<matplotlib.figure.Figure at 0x2561cc919e8>"
      ]
     },
     "metadata": {},
     "output_type": "display_data"
    }
   ],
   "source": [
    "df['engagement_score'].hist()"
   ]
  },
  {
   "cell_type": "code",
   "execution_count": 10,
   "metadata": {},
   "outputs": [
    {
     "name": "stdout",
     "output_type": "stream",
     "text": [
      "username\n",
      "0                       75\n",
      "0x2ba22e11               6\n",
      "0xfg                     4\n",
      "1amzave                 46\n",
      "355E3B                2130\n",
      "4ad                     78\n",
      "ANTStorm                 4\n",
      "AdamGibbins             74\n",
      "Adir                     8\n",
      "AlexGilleran             6\n",
      "AliasIO                 17\n",
      "Alodium                  2\n",
      "AmirRachum              68\n",
      "AntonioMeireles          3\n",
      "Aranje                   2\n",
      "Arrgh                   16\n",
      "Astyan                   3\n",
      "AutomaticHourglass       8\n",
      "Axman6                 117\n",
      "Benedmunds               1\n",
      "BonacaTalk               2\n",
      "Bonbonia                 3\n",
      "Boojum                   9\n",
      "BruceM                2579\n",
      "Bystroushaak            93\n",
      "C-Keen                 210\n",
      "CS                      13\n",
      "Cale                     6\n",
      "Caustic                  7\n",
      "Charlotteis              1\n",
      "                      ... \n",
      "yvonne-chen             16\n",
      "z3bra                   29\n",
      "za_creature              2\n",
      "zacbrown               289\n",
      "zachwill                 4\n",
      "zack                    11\n",
      "zacstewart              37\n",
      "zalew                   11\n",
      "zaphar                   1\n",
      "zbskii                  10\n",
      "zdsmith                 96\n",
      "zdx                      1\n",
      "zedgoat                 61\n",
      "zedoary                 70\n",
      "zee                      5\n",
      "zeebo                    6\n",
      "zeeshanlakhani          81\n",
      "zem                   2206\n",
      "zg                    1997\n",
      "zgrep                  215\n",
      "zhemao                 769\n",
      "zigg                    25\n",
      "zkms                     7\n",
      "zmcartor               101\n",
      "zod000                 197\n",
      "zodvik                  11\n",
      "ztellman               150\n",
      "zx2c4                   28\n",
      "zxtx                     8\n",
      "zzing                   21\n",
      "Name: engagement_score, Length: 2116, dtype: int64\n"
     ]
    },
    {
     "data": {
      "text/plain": [
       "<matplotlib.axes._subplots.AxesSubplot at 0x2561bf23a58>"
      ]
     },
     "execution_count": 10,
     "metadata": {},
     "output_type": "execute_result"
    },
    {
     "data": {
      "image/png": "[encoded data removed]",
      "text/plain": [
       "<matplotlib.figure.Figure at 0x2561be33cc0>"
      ]
     },
     "metadata": {},
     "output_type": "display_data"
    }
   ],
   "source": [
    "#Chart engagement score by usn\n",
    "total_engagement_score_by_usn = df.groupby('username')['engagement_score'].sum()\n",
    "print(total_engagement_score_by_usn)\n",
    "total_engagement_score_by_usn.plot()"
   ]
  },
  {
   "cell_type": "code",
   "execution_count": 11,
   "metadata": {},
   "outputs": [
    {
     "name": "stdout",
     "output_type": "stream",
     "text": [
      "username\n",
      "0                     5\n",
      "1amzave               8\n",
      "355E3B              160\n",
      "AdamGibbins          11\n",
      "AmirRachum           12\n",
      "Axman6                7\n",
      "BruceM              161\n",
      "Bystroushaak          9\n",
      "C-Keen               11\n",
      "ChrisShort           15\n",
      "Curiositry           25\n",
      "DRMacIver            53\n",
      "DanTup               23\n",
      "Dawny33             104\n",
      "DocSavage             8\n",
      "Don_Pellegrino        7\n",
      "DrM                  26\n",
      "Ecto5                 7\n",
      "EthanHeilman          8\n",
      "FRIGN                 5\n",
      "Flisk                 6\n",
      "FooBarWidget          5\n",
      "GMW                   5\n",
      "Gargi                 6\n",
      "GeoffWozniak         36\n",
      "InakaESI              6\n",
      "InkyHarmonics         7\n",
      "Irene                 9\n",
      "JeffreyBaird          6\n",
      "JeremyMorgan         87\n",
      "                   ... \n",
      "wally                67\n",
      "weakforce             9\n",
      "wetzler               8\n",
      "whbboyd              22\n",
      "whyrusleeping         5\n",
      "wiedi                12\n",
      "wikimatze             8\n",
      "wildlyinaccurate      5\n",
      "wje                   5\n",
      "wmoxam               10\n",
      "worr                 11\n",
      "wsdookadr            16\n",
      "wting                32\n",
      "wyeworks              6\n",
      "xcombelle            30\n",
      "xpostman             10\n",
      "xyz                   5\n",
      "yawniek               7\n",
      "yminsky               9\n",
      "yumaikas             29\n",
      "zacbrown             21\n",
      "zedoary               7\n",
      "zeeshanlakhani        8\n",
      "zem                 248\n",
      "zg                  126\n",
      "zgrep                19\n",
      "zhemao               62\n",
      "zmcartor             19\n",
      "zod000               26\n",
      "ztellman             11\n",
      "Name: engagement_score, Length: 748, dtype: int64\n"
     ]
    },
    {
     "data": {
      "text/plain": [
       "<matplotlib.axes._subplots.AxesSubplot at 0x2561bff0f98>"
      ]
     },
     "execution_count": 11,
     "metadata": {},
     "output_type": "execute_result"
    },
    {
     "data": {
      "image/png": "[encoded data removed]",
      "text/plain": [
       "<matplotlib.figure.Figure at 0x2561bfbf128>"
      ]
     },
     "metadata": {},
     "output_type": "display_data"
    }
   ],
   "source": [
    "#chart number of posts by usn\n",
    "total_posts_by_usn = df.groupby('username')['engagement_score'].count()\n",
    "df= total_posts_by_usn\n",
    "total_posts_by_usn = df.drop(df[df < 5].index)\n",
    "print(total_posts_by_usn)\n",
    "total_posts_by_usn.plot()"
   ]
  },
  {
   "cell_type": "code",
   "execution_count": 12,
   "metadata": {},
   "outputs": [
    {
     "name": "stdout",
     "output_type": "stream",
     "text": [
      "username\n",
      "0                   15.000000\n",
      "1amzave              5.750000\n",
      "355E3B              13.312500\n",
      "AdamGibbins          6.727273\n",
      "AmirRachum           5.666667\n",
      "Axman6              16.714286\n",
      "BruceM              16.018634\n",
      "Bystroushaak        10.333333\n",
      "C-Keen              19.090909\n",
      "ChrisShort          13.200000\n",
      "Curiositry          11.200000\n",
      "DRMacIver           19.056604\n",
      "DanTup              12.173913\n",
      "Dawny33              8.817308\n",
      "DocSavage            8.500000\n",
      "Don_Pellegrino       9.571429\n",
      "DrM                 11.769231\n",
      "Ecto5                4.428571\n",
      "EthanHeilman         7.750000\n",
      "FRIGN               31.000000\n",
      "Flisk               20.000000\n",
      "FooBarWidget         3.800000\n",
      "GMW                 10.000000\n",
      "Gargi                5.500000\n",
      "GeoffWozniak        15.305556\n",
      "InakaESI             2.000000\n",
      "InkyHarmonics        4.714286\n",
      "Irene               23.777778\n",
      "JeffreyBaird         5.166667\n",
      "JeremyMorgan         6.735632\n",
      "                      ...    \n",
      "wally               10.970149\n",
      "weakforce            4.777778\n",
      "wetzler              5.000000\n",
      "whbboyd             22.272727\n",
      "whyrusleeping       49.000000\n",
      "wiedi               21.500000\n",
      "wikimatze            5.000000\n",
      "wildlyinaccurate    17.200000\n",
      "wje                 16.800000\n",
      "wmoxam              10.300000\n",
      "worr                24.636364\n",
      "wsdookadr            4.937500\n",
      "wting               13.718750\n",
      "wyeworks             4.000000\n",
      "xcombelle           13.066667\n",
      "xpostman             6.300000\n",
      "xyz                 29.200000\n",
      "yawniek              7.428571\n",
      "yminsky             13.222222\n",
      "yumaikas            18.655172\n",
      "zacbrown            13.761905\n",
      "zedoary             10.000000\n",
      "zeeshanlakhani      10.125000\n",
      "zem                  8.895161\n",
      "zg                  15.849206\n",
      "zgrep               11.315789\n",
      "zhemao              12.403226\n",
      "zmcartor             5.315789\n",
      "zod000               7.576923\n",
      "ztellman            13.636364\n",
      "Name: engagement_score, Length: 748, dtype: float64\n"
     ]
    }
   ],
   "source": [
    "#Find average post engagement per username\n",
    "avg_engagement_by_user = total_engagement_score_by_usn / total_posts_by_usn\n",
    "avg_engagement_by_user = avg_engagement_by_user.dropna()\n",
    "print(avg_engagement_by_user)"
   ]
  },
  {
   "cell_type": "code",
   "execution_count": 13,
   "metadata": {},
   "outputs": [
    {
     "name": "stdout",
     "output_type": "stream",
     "text": [
      "6.654214133456158\n"
     ]
    }
   ],
   "source": [
    "#find the standard deviation of the engagement score\n",
    "stdev_avg_engagement = stat.stdev(avg_engagement_by_user)\n",
    "print(stdev_avg_engagement)"
   ]
  },
  {
   "cell_type": "code",
   "execution_count": 14,
   "metadata": {},
   "outputs": [
    {
     "name": "stdout",
     "output_type": "stream",
     "text": [
      "11.150824360938802\n"
     ]
    }
   ],
   "source": [
    "#mean of th engagement score\n",
    "mean_avg_engagement = stat.mean(avg_engagement_by_user)\n",
    "print(mean_avg_engagement)"
   ]
  },
  {
   "cell_type": "code",
   "execution_count": 15,
   "metadata": {
    "collapsed": true
   },
   "outputs": [],
   "source": [
    "#find standard deviation levels\n",
    "one_eng_stdev = stdev_avg_engagement + mean_avg_engagement\n",
    "two_eng_stdev = (stdev_avg_engagement*2) + mean_avg_engagement\n",
    "three_eng_stdev = (stdev_avg_engagement*3) + mean_avg_engagement"
   ]
  },
  {
   "cell_type": "code",
   "execution_count": 16,
   "metadata": {
    "collapsed": true
   },
   "outputs": [],
   "source": [
    "df= avg_engagement_by_user"
   ]
  },
  {
   "cell_type": "code",
   "execution_count": 17,
   "metadata": {
    "collapsed": true
   },
   "outputs": [],
   "source": [
    "stdev1df = df.drop(df[df < one_eng_stdev].index)\n",
    "stdev2df = df.drop(df[df < two_eng_stdev].index)\n",
    "stdev3df = df.drop(df[df < three_eng_stdev].index)"
   ]
  },
  {
   "cell_type": "code",
   "execution_count": 18,
   "metadata": {},
   "outputs": [
    {
     "name": "stdout",
     "output_type": "stream",
     "text": [
      "username\n",
      "C-Keen             19.090909\n",
      "DRMacIver          19.056604\n",
      "FRIGN              31.000000\n",
      "Flisk              20.000000\n",
      "Irene              23.777778\n",
      "JordiGH            19.904762\n",
      "SirSkidmore        20.500000\n",
      "UkiahSmith         20.777778\n",
      "a-109-107          26.500000\n",
      "acatton            24.800000\n",
      "akurilin           19.142857\n",
      "albino             18.600000\n",
      "alek               29.400000\n",
      "algernon           19.260870\n",
      "andrewnez          18.916667\n",
      "ane                24.250000\n",
      "apc                32.000000\n",
      "aphyr              38.111111\n",
      "arcatan            24.933333\n",
      "arrdem             30.909091\n",
      "awal               25.631579\n",
      "bill               20.166667\n",
      "bmercer            23.888889\n",
      "brinker            25.705882\n",
      "brynet             38.250000\n",
      "burntsushi         19.090909\n",
      "caius              46.000000\n",
      "chilicuil          20.333333\n",
      "cmhamill           19.875000\n",
      "conroy             30.222222\n",
      "                     ...    \n",
      "mattgreenrocks     23.000000\n",
      "meskarune          33.222222\n",
      "michaelochurch     21.086207\n",
      "mostly-harmless    31.833333\n",
      "mperham            19.888889\n",
      "nateberkopec       20.285714\n",
      "nhooyr             26.400000\n",
      "orib               20.444444\n",
      "oz                 18.588235\n",
      "pab                24.666667\n",
      "patrickod          18.928571\n",
      "pxi                25.833333\n",
      "reezer             19.571429\n",
      "resir014           27.125000\n",
      "robbiev            21.833333\n",
      "rodolfo            18.727273\n",
      "rubenbarroso       19.852941\n",
      "sagi               19.875000\n",
      "sajith             21.666667\n",
      "sivers             23.200000\n",
      "soc                19.380952\n",
      "szalansky          18.318182\n",
      "uggedal            22.320000\n",
      "vyodaiken          28.550000\n",
      "whbboyd            22.272727\n",
      "whyrusleeping      49.000000\n",
      "wiedi              21.500000\n",
      "worr               24.636364\n",
      "xyz                29.200000\n",
      "yumaikas           18.655172\n",
      "Name: engagement_score, Length: 96, dtype: float64\n"
     ]
    },
    {
     "data": {
      "text/plain": [
       "<matplotlib.axes._subplots.AxesSubplot at 0x2561c02f588>"
      ]
     },
     "execution_count": 18,
     "metadata": {},
     "output_type": "execute_result"
    },
    {
     "data": {
      "image/png": "[encoded data removed]",
      "text/plain": [
       "<matplotlib.figure.Figure at 0x2561c098ba8>"
      ]
     },
     "metadata": {},
     "output_type": "display_data"
    }
   ],
   "source": [
    "print(stdev1df)\n",
    "stdev1df.plot(kind= 'bar')"
   ]
  },
  {
   "cell_type": "code",
   "execution_count": 19,
   "metadata": {},
   "outputs": [
    {
     "name": "stdout",
     "output_type": "stream",
     "text": [
      "username\n",
      "FRIGN              31.000000\n",
      "a-109-107          26.500000\n",
      "acatton            24.800000\n",
      "alek               29.400000\n",
      "apc                32.000000\n",
      "aphyr              38.111111\n",
      "arcatan            24.933333\n",
      "arrdem             30.909091\n",
      "awal               25.631579\n",
      "brinker            25.705882\n",
      "brynet             38.250000\n",
      "caius              46.000000\n",
      "conroy             30.222222\n",
      "davidjpeacock      26.125000\n",
      "enn                27.666667\n",
      "ericdykstra        31.333333\n",
      "felixgallo         27.000000\n",
      "gecko              27.000000\n",
      "gluegadget         30.200000\n",
      "howdoipython       33.444444\n",
      "isagalaev          26.400000\n",
      "iv                 26.428571\n",
      "japesinator        48.000000\n",
      "kaiju              24.500000\n",
      "kyrias             25.714286\n",
      "lenary             33.000000\n",
      "maqio              27.916667\n",
      "marvindanig        27.625000\n",
      "meskarune          33.222222\n",
      "mostly-harmless    31.833333\n",
      "nhooyr             26.400000\n",
      "pab                24.666667\n",
      "pxi                25.833333\n",
      "resir014           27.125000\n",
      "vyodaiken          28.550000\n",
      "whyrusleeping      49.000000\n",
      "worr               24.636364\n",
      "xyz                29.200000\n",
      "Name: engagement_score, dtype: float64\n"
     ]
    },
    {
     "data": {
      "text/plain": [
       "<matplotlib.axes._subplots.AxesSubplot at 0x2561c3345f8>"
      ]
     },
     "execution_count": 19,
     "metadata": {},
     "output_type": "execute_result"
    },
    {
     "data": {
      "image/png": "[encoded data removed]",
      "text/plain": [
       "<matplotlib.figure.Figure at 0x2561c111748>"
      ]
     },
     "metadata": {},
     "output_type": "display_data"
    }
   ],
   "source": [
    "print(stdev2df)\n",
    "stdev1df.plot(kind= 'bar')"
   ]
  },
  {
   "cell_type": "code",
   "execution_count": 20,
   "metadata": {},
   "outputs": [
    {
     "name": "stdout",
     "output_type": "stream",
     "text": [
      "username\n",
      "apc                32.000000\n",
      "aphyr              38.111111\n",
      "brynet             38.250000\n",
      "caius              46.000000\n",
      "ericdykstra        31.333333\n",
      "howdoipython       33.444444\n",
      "japesinator        48.000000\n",
      "lenary             33.000000\n",
      "meskarune          33.222222\n",
      "mostly-harmless    31.833333\n",
      "whyrusleeping      49.000000\n",
      "Name: engagement_score, dtype: float64\n"
     ]
    },
    {
     "data": {
      "text/plain": [
       "<matplotlib.axes._subplots.AxesSubplot at 0x2561d4a82b0>"
      ]
     },
     "execution_count": 20,
     "metadata": {},
     "output_type": "execute_result"
    },
    {
     "data": {
      "image/png": "[encoded data removed]",
      "text/plain": [
       "<matplotlib.figure.Figure at 0x2561c6e8b70>"
      ]
     },
     "metadata": {},
     "output_type": "display_data"
    }
   ],
   "source": [
    "print(stdev3df)\n",
    "stdev1df.plot(kind= 'bar')"
   ]
  },
  {
   "cell_type": "code",
   "execution_count": 21,
   "metadata": {
    "collapsed": true
   },
   "outputs": [],
   "source": [
    "df = og_df"
   ]
  },
  {
   "cell_type": "code",
   "execution_count": 22,
   "metadata": {},
   "outputs": [
    {
     "data": {
      "text/html": [
       "<div>\n",
       "<style>\n",
       "    .dataframe thead tr:only-child th {\n",
       "        text-align: right;\n",
       "    }\n",
       "\n",
       "    .dataframe thead th {\n",
       "        text-align: left;\n",
       "    }\n",
       "\n",
       "    .dataframe tbody tr th {\n",
       "        vertical-align: top;\n",
       "    }\n",
       "</style>\n",
       "<table border=\"1\" class=\"dataframe\">\n",
       "  <thead>\n",
       "    <tr style=\"text-align: right;\">\n",
       "      <th></th>\n",
       "      <th>comment_count</th>\n",
       "      <th>comments_url</th>\n",
       "      <th>created_at</th>\n",
       "      <th>description</th>\n",
       "      <th>downvotes</th>\n",
       "      <th>score</th>\n",
       "      <th>short_id_url</th>\n",
       "      <th>tags</th>\n",
       "      <th>title</th>\n",
       "      <th>upvotes</th>\n",
       "      <th>...</th>\n",
       "      <th>vim</th>\n",
       "      <th>virtualization</th>\n",
       "      <th>visualization</th>\n",
       "      <th>web</th>\n",
       "      <th>windows</th>\n",
       "      <th>created_hour</th>\n",
       "      <th>created_dow</th>\n",
       "      <th>created_year</th>\n",
       "      <th>scaled_title_popularity</th>\n",
       "      <th>engagement_score</th>\n",
       "    </tr>\n",
       "  </thead>\n",
       "  <tbody>\n",
       "    <tr>\n",
       "      <th>000yx1</th>\n",
       "      <td>2</td>\n",
       "      <td>https://lobste.rs/s/000yx1/analysis_soviet_smo...</td>\n",
       "      <td>2017-02-10 14:00:25</td>\n",
       "      <td>NaN</td>\n",
       "      <td>0</td>\n",
       "      <td>22</td>\n",
       "      <td>https://lobste.rs/s/000yx1</td>\n",
       "      <td>['hardware', 'historical', 'science']</td>\n",
       "      <td>Analysis of Soviet smoke detector plutonium</td>\n",
       "      <td>22</td>\n",
       "      <td>...</td>\n",
       "      <td>0.0</td>\n",
       "      <td>0.0</td>\n",
       "      <td>0.0</td>\n",
       "      <td>0.0</td>\n",
       "      <td>0.0</td>\n",
       "      <td>14</td>\n",
       "      <td>4</td>\n",
       "      <td>2017</td>\n",
       "      <td>0.053848</td>\n",
       "      <td>24</td>\n",
       "    </tr>\n",
       "    <tr>\n",
       "      <th>001m4w</th>\n",
       "      <td>1</td>\n",
       "      <td>https://lobste.rs/s/001m4w/twitter_already_usi...</td>\n",
       "      <td>2014-11-17 13:20:20</td>\n",
       "      <td>NaN</td>\n",
       "      <td>0</td>\n",
       "      <td>3</td>\n",
       "      <td>https://lobste.rs/s/001m4w</td>\n",
       "      <td>['networking', 'privacy']</td>\n",
       "      <td>Twitter Already Using Verizon's ID to Track Users</td>\n",
       "      <td>3</td>\n",
       "      <td>...</td>\n",
       "      <td>0.0</td>\n",
       "      <td>0.0</td>\n",
       "      <td>0.0</td>\n",
       "      <td>0.0</td>\n",
       "      <td>0.0</td>\n",
       "      <td>13</td>\n",
       "      <td>0</td>\n",
       "      <td>2014</td>\n",
       "      <td>0.249789</td>\n",
       "      <td>4</td>\n",
       "    </tr>\n",
       "    <tr>\n",
       "      <th>002cgs</th>\n",
       "      <td>2</td>\n",
       "      <td>https://lobste.rs/s/002cgs/resilience_ruby</td>\n",
       "      <td>2017-04-18 18:02:19</td>\n",
       "      <td>NaN</td>\n",
       "      <td>0</td>\n",
       "      <td>12</td>\n",
       "      <td>https://lobste.rs/s/002cgs</td>\n",
       "      <td>['programming', 'ruby']</td>\n",
       "      <td>Resilience in Ruby</td>\n",
       "      <td>12</td>\n",
       "      <td>...</td>\n",
       "      <td>0.0</td>\n",
       "      <td>0.0</td>\n",
       "      <td>0.0</td>\n",
       "      <td>0.0</td>\n",
       "      <td>0.0</td>\n",
       "      <td>18</td>\n",
       "      <td>1</td>\n",
       "      <td>2017</td>\n",
       "      <td>0.102904</td>\n",
       "      <td>14</td>\n",
       "    </tr>\n",
       "    <tr>\n",
       "      <th>006hat</th>\n",
       "      <td>0</td>\n",
       "      <td>https://lobste.rs/s/006hat/hacking_linksys_wmb54g</td>\n",
       "      <td>2012-07-13 15:28:05</td>\n",
       "      <td>NaN</td>\n",
       "      <td>0</td>\n",
       "      <td>7</td>\n",
       "      <td>https://lobste.rs/s/006hat</td>\n",
       "      <td>['hardware', 'security']</td>\n",
       "      <td>Hacking the Linksys WMB54G</td>\n",
       "      <td>7</td>\n",
       "      <td>...</td>\n",
       "      <td>0.0</td>\n",
       "      <td>0.0</td>\n",
       "      <td>0.0</td>\n",
       "      <td>0.0</td>\n",
       "      <td>0.0</td>\n",
       "      <td>15</td>\n",
       "      <td>4</td>\n",
       "      <td>2012</td>\n",
       "      <td>0.030448</td>\n",
       "      <td>7</td>\n",
       "    </tr>\n",
       "    <tr>\n",
       "      <th>00adts</th>\n",
       "      <td>1</td>\n",
       "      <td>https://lobste.rs/s/00adts/dying_art_mental_ma...</td>\n",
       "      <td>2016-01-13 10:10:04</td>\n",
       "      <td>NaN</td>\n",
       "      <td>0</td>\n",
       "      <td>7</td>\n",
       "      <td>https://lobste.rs/s/00adts</td>\n",
       "      <td>['math']</td>\n",
       "      <td>The Dying Art of Mental Math Tricks</td>\n",
       "      <td>7</td>\n",
       "      <td>...</td>\n",
       "      <td>0.0</td>\n",
       "      <td>0.0</td>\n",
       "      <td>0.0</td>\n",
       "      <td>0.0</td>\n",
       "      <td>0.0</td>\n",
       "      <td>10</td>\n",
       "      <td>2</td>\n",
       "      <td>2016</td>\n",
       "      <td>0.049901</td>\n",
       "      <td>8</td>\n",
       "    </tr>\n",
       "  </tbody>\n",
       "</table>\n",
       "<p>5 rows × 114 columns</p>\n",
       "</div>"
      ],
      "text/plain": [
       "        comment_count                                       comments_url  \\\n",
       "000yx1              2  https://lobste.rs/s/000yx1/analysis_soviet_smo...   \n",
       "001m4w              1  https://lobste.rs/s/001m4w/twitter_already_usi...   \n",
       "002cgs              2         https://lobste.rs/s/002cgs/resilience_ruby   \n",
       "006hat              0  https://lobste.rs/s/006hat/hacking_linksys_wmb54g   \n",
       "00adts              1  https://lobste.rs/s/00adts/dying_art_mental_ma...   \n",
       "\n",
       "                 created_at description  downvotes  score  \\\n",
       "000yx1  2017-02-10 14:00:25         NaN          0     22   \n",
       "001m4w  2014-11-17 13:20:20         NaN          0      3   \n",
       "002cgs  2017-04-18 18:02:19         NaN          0     12   \n",
       "006hat  2012-07-13 15:28:05         NaN          0      7   \n",
       "00adts  2016-01-13 10:10:04         NaN          0      7   \n",
       "\n",
       "                      short_id_url                                   tags  \\\n",
       "000yx1  https://lobste.rs/s/000yx1  ['hardware', 'historical', 'science']   \n",
       "001m4w  https://lobste.rs/s/001m4w              ['networking', 'privacy']   \n",
       "002cgs  https://lobste.rs/s/002cgs                ['programming', 'ruby']   \n",
       "006hat  https://lobste.rs/s/006hat               ['hardware', 'security']   \n",
       "00adts  https://lobste.rs/s/00adts                               ['math']   \n",
       "\n",
       "                                                    title  upvotes  \\\n",
       "000yx1        Analysis of Soviet smoke detector plutonium       22   \n",
       "001m4w  Twitter Already Using Verizon's ID to Track Users        3   \n",
       "002cgs                                 Resilience in Ruby       12   \n",
       "006hat                         Hacking the Linksys WMB54G        7   \n",
       "00adts                The Dying Art of Mental Math Tricks        7   \n",
       "\n",
       "             ...         vim virtualization visualization  web windows  \\\n",
       "000yx1       ...         0.0            0.0           0.0  0.0     0.0   \n",
       "001m4w       ...         0.0            0.0           0.0  0.0     0.0   \n",
       "002cgs       ...         0.0            0.0           0.0  0.0     0.0   \n",
       "006hat       ...         0.0            0.0           0.0  0.0     0.0   \n",
       "00adts       ...         0.0            0.0           0.0  0.0     0.0   \n",
       "\n",
       "        created_hour  created_dow  created_year scaled_title_popularity  \\\n",
       "000yx1            14            4          2017                0.053848   \n",
       "001m4w            13            0          2014                0.249789   \n",
       "002cgs            18            1          2017                0.102904   \n",
       "006hat            15            4          2012                0.030448   \n",
       "00adts            10            2          2016                0.049901   \n",
       "\n",
       "       engagement_score  \n",
       "000yx1               24  \n",
       "001m4w                4  \n",
       "002cgs               14  \n",
       "006hat                7  \n",
       "00adts                8  \n",
       "\n",
       "[5 rows x 114 columns]"
      ]
     },
     "execution_count": 22,
     "metadata": {},
     "output_type": "execute_result"
    }
   ],
   "source": [
    "df.head()"
   ]
  },
  {
   "cell_type": "code",
   "execution_count": 23,
   "metadata": {},
   "outputs": [
    {
     "name": "stdout",
     "output_type": "stream",
     "text": [
      "12876.510597705841\n"
     ]
    }
   ],
   "source": [
    "import time\n",
    "start = time.time()\n",
    "\"the code you want to test stays here\"\n",
    "df[['comment_text','comment_sentiment']] = df['comments_url'].apply(sentiment_comment_text)\n",
    "end = time.time()\n",
    "print(end - start)"
   ]
  },
  {
   "cell_type": "code",
   "execution_count": 24,
   "metadata": {},
   "outputs": [
    {
     "data": {
      "text/html": [
       "<div>\n",
       "<style>\n",
       "    .dataframe thead tr:only-child th {\n",
       "        text-align: right;\n",
       "    }\n",
       "\n",
       "    .dataframe thead th {\n",
       "        text-align: left;\n",
       "    }\n",
       "\n",
       "    .dataframe tbody tr th {\n",
       "        vertical-align: top;\n",
       "    }\n",
       "</style>\n",
       "<table border=\"1\" class=\"dataframe\">\n",
       "  <thead>\n",
       "    <tr style=\"text-align: right;\">\n",
       "      <th></th>\n",
       "      <th>comment_count</th>\n",
       "      <th>comments_url</th>\n",
       "      <th>created_at</th>\n",
       "      <th>description</th>\n",
       "      <th>downvotes</th>\n",
       "      <th>score</th>\n",
       "      <th>short_id_url</th>\n",
       "      <th>tags</th>\n",
       "      <th>title</th>\n",
       "      <th>upvotes</th>\n",
       "      <th>...</th>\n",
       "      <th>visualization</th>\n",
       "      <th>web</th>\n",
       "      <th>windows</th>\n",
       "      <th>created_hour</th>\n",
       "      <th>created_dow</th>\n",
       "      <th>created_year</th>\n",
       "      <th>scaled_title_popularity</th>\n",
       "      <th>engagement_score</th>\n",
       "      <th>comment_text</th>\n",
       "      <th>comment_sentiment</th>\n",
       "    </tr>\n",
       "  </thead>\n",
       "  <tbody>\n",
       "    <tr>\n",
       "      <th>000yx1</th>\n",
       "      <td>2</td>\n",
       "      <td>https://lobste.rs/s/000yx1/analysis_soviet_smo...</td>\n",
       "      <td>2017-02-10 14:00:25</td>\n",
       "      <td>NaN</td>\n",
       "      <td>0</td>\n",
       "      <td>22</td>\n",
       "      <td>https://lobste.rs/s/000yx1</td>\n",
       "      <td>['hardware', 'historical', 'science']</td>\n",
       "      <td>Analysis of Soviet smoke detector plutonium</td>\n",
       "      <td>22</td>\n",
       "      <td>...</td>\n",
       "      <td>0.0</td>\n",
       "      <td>0.0</td>\n",
       "      <td>0.0</td>\n",
       "      <td>14</td>\n",
       "      <td>4</td>\n",
       "      <td>2017</td>\n",
       "      <td>0.053848</td>\n",
       "      <td>24</td>\n",
       "      <td>[, , Too bad there isn’t a “crazy hobby” tag. ...</td>\n",
       "      <td>0.2500</td>\n",
       "    </tr>\n",
       "    <tr>\n",
       "      <th>001m4w</th>\n",
       "      <td>1</td>\n",
       "      <td>https://lobste.rs/s/001m4w/twitter_already_usi...</td>\n",
       "      <td>2014-11-17 13:20:20</td>\n",
       "      <td>NaN</td>\n",
       "      <td>0</td>\n",
       "      <td>3</td>\n",
       "      <td>https://lobste.rs/s/001m4w</td>\n",
       "      <td>['networking', 'privacy']</td>\n",
       "      <td>Twitter Already Using Verizon's ID to Track Users</td>\n",
       "      <td>3</td>\n",
       "      <td>...</td>\n",
       "      <td>0.0</td>\n",
       "      <td>0.0</td>\n",
       "      <td>0.0</td>\n",
       "      <td>13</td>\n",
       "      <td>0</td>\n",
       "      <td>2014</td>\n",
       "      <td>0.249789</td>\n",
       "      <td>4</td>\n",
       "      <td>[, , Why does a telecom need to target relevan...</td>\n",
       "      <td>0.0000</td>\n",
       "    </tr>\n",
       "    <tr>\n",
       "      <th>002cgs</th>\n",
       "      <td>2</td>\n",
       "      <td>https://lobste.rs/s/002cgs/resilience_ruby</td>\n",
       "      <td>2017-04-18 18:02:19</td>\n",
       "      <td>NaN</td>\n",
       "      <td>0</td>\n",
       "      <td>12</td>\n",
       "      <td>https://lobste.rs/s/002cgs</td>\n",
       "      <td>['programming', 'ruby']</td>\n",
       "      <td>Resilience in Ruby</td>\n",
       "      <td>12</td>\n",
       "      <td>...</td>\n",
       "      <td>0.0</td>\n",
       "      <td>0.0</td>\n",
       "      <td>0.0</td>\n",
       "      <td>18</td>\n",
       "      <td>1</td>\n",
       "      <td>2017</td>\n",
       "      <td>0.102904</td>\n",
       "      <td>14</td>\n",
       "      <td>[, , For sure, option types in Ruby would be n...</td>\n",
       "      <td>0.5023</td>\n",
       "    </tr>\n",
       "    <tr>\n",
       "      <th>006hat</th>\n",
       "      <td>0</td>\n",
       "      <td>https://lobste.rs/s/006hat/hacking_linksys_wmb54g</td>\n",
       "      <td>2012-07-13 15:28:05</td>\n",
       "      <td>NaN</td>\n",
       "      <td>0</td>\n",
       "      <td>7</td>\n",
       "      <td>https://lobste.rs/s/006hat</td>\n",
       "      <td>['hardware', 'security']</td>\n",
       "      <td>Hacking the Linksys WMB54G</td>\n",
       "      <td>7</td>\n",
       "      <td>...</td>\n",
       "      <td>0.0</td>\n",
       "      <td>0.0</td>\n",
       "      <td>0.0</td>\n",
       "      <td>15</td>\n",
       "      <td>4</td>\n",
       "      <td>2012</td>\n",
       "      <td>0.030448</td>\n",
       "      <td>7</td>\n",
       "      <td>[, ]</td>\n",
       "      <td>0.0000</td>\n",
       "    </tr>\n",
       "    <tr>\n",
       "      <th>00adts</th>\n",
       "      <td>1</td>\n",
       "      <td>https://lobste.rs/s/00adts/dying_art_mental_ma...</td>\n",
       "      <td>2016-01-13 10:10:04</td>\n",
       "      <td>NaN</td>\n",
       "      <td>0</td>\n",
       "      <td>7</td>\n",
       "      <td>https://lobste.rs/s/00adts</td>\n",
       "      <td>['math']</td>\n",
       "      <td>The Dying Art of Mental Math Tricks</td>\n",
       "      <td>7</td>\n",
       "      <td>...</td>\n",
       "      <td>0.0</td>\n",
       "      <td>0.0</td>\n",
       "      <td>0.0</td>\n",
       "      <td>10</td>\n",
       "      <td>2</td>\n",
       "      <td>2016</td>\n",
       "      <td>0.049901</td>\n",
       "      <td>8</td>\n",
       "      <td>[, , They say the car saved the horse, in the ...</td>\n",
       "      <td>0.9053</td>\n",
       "    </tr>\n",
       "  </tbody>\n",
       "</table>\n",
       "<p>5 rows × 116 columns</p>\n",
       "</div>"
      ],
      "text/plain": [
       "        comment_count                                       comments_url  \\\n",
       "000yx1              2  https://lobste.rs/s/000yx1/analysis_soviet_smo...   \n",
       "001m4w              1  https://lobste.rs/s/001m4w/twitter_already_usi...   \n",
       "002cgs              2         https://lobste.rs/s/002cgs/resilience_ruby   \n",
       "006hat              0  https://lobste.rs/s/006hat/hacking_linksys_wmb54g   \n",
       "00adts              1  https://lobste.rs/s/00adts/dying_art_mental_ma...   \n",
       "\n",
       "                 created_at description  downvotes  score  \\\n",
       "000yx1  2017-02-10 14:00:25         NaN          0     22   \n",
       "001m4w  2014-11-17 13:20:20         NaN          0      3   \n",
       "002cgs  2017-04-18 18:02:19         NaN          0     12   \n",
       "006hat  2012-07-13 15:28:05         NaN          0      7   \n",
       "00adts  2016-01-13 10:10:04         NaN          0      7   \n",
       "\n",
       "                      short_id_url                                   tags  \\\n",
       "000yx1  https://lobste.rs/s/000yx1  ['hardware', 'historical', 'science']   \n",
       "001m4w  https://lobste.rs/s/001m4w              ['networking', 'privacy']   \n",
       "002cgs  https://lobste.rs/s/002cgs                ['programming', 'ruby']   \n",
       "006hat  https://lobste.rs/s/006hat               ['hardware', 'security']   \n",
       "00adts  https://lobste.rs/s/00adts                               ['math']   \n",
       "\n",
       "                                                    title  upvotes  \\\n",
       "000yx1        Analysis of Soviet smoke detector plutonium       22   \n",
       "001m4w  Twitter Already Using Verizon's ID to Track Users        3   \n",
       "002cgs                                 Resilience in Ruby       12   \n",
       "006hat                         Hacking the Linksys WMB54G        7   \n",
       "00adts                The Dying Art of Mental Math Tricks        7   \n",
       "\n",
       "              ...        visualization  web windows created_hour created_dow  \\\n",
       "000yx1        ...                  0.0  0.0     0.0           14           4   \n",
       "001m4w        ...                  0.0  0.0     0.0           13           0   \n",
       "002cgs        ...                  0.0  0.0     0.0           18           1   \n",
       "006hat        ...                  0.0  0.0     0.0           15           4   \n",
       "00adts        ...                  0.0  0.0     0.0           10           2   \n",
       "\n",
       "        created_year  scaled_title_popularity  engagement_score  \\\n",
       "000yx1          2017                 0.053848                24   \n",
       "001m4w          2014                 0.249789                 4   \n",
       "002cgs          2017                 0.102904                14   \n",
       "006hat          2012                 0.030448                 7   \n",
       "00adts          2016                 0.049901                 8   \n",
       "\n",
       "                                             comment_text comment_sentiment  \n",
       "000yx1  [, , Too bad there isn’t a “crazy hobby” tag. ...            0.2500  \n",
       "001m4w  [, , Why does a telecom need to target relevan...            0.0000  \n",
       "002cgs  [, , For sure, option types in Ruby would be n...            0.5023  \n",
       "006hat                                               [, ]            0.0000  \n",
       "00adts  [, , They say the car saved the horse, in the ...            0.9053  \n",
       "\n",
       "[5 rows x 116 columns]"
      ]
     },
     "execution_count": 24,
     "metadata": {},
     "output_type": "execute_result"
    }
   ],
   "source": [
    "df.head()"
   ]
  },
  {
   "cell_type": "code",
   "execution_count": 25,
   "metadata": {},
   "outputs": [
    {
     "data": {
      "text/plain": [
       "0.42974368681631425"
      ]
     },
     "execution_count": 25,
     "metadata": {},
     "output_type": "execute_result"
    }
   ],
   "source": [
    "df['engagement_score'].corr(df['comment_sentiment'])"
   ]
  },
  {
   "cell_type": "code",
   "execution_count": 26,
   "metadata": {},
   "outputs": [
    {
     "data": {
      "text/html": [
       "<div>\n",
       "<style>\n",
       "    .dataframe thead tr:only-child th {\n",
       "        text-align: right;\n",
       "    }\n",
       "\n",
       "    .dataframe thead th {\n",
       "        text-align: left;\n",
       "    }\n",
       "\n",
       "    .dataframe tbody tr th {\n",
       "        vertical-align: top;\n",
       "    }\n",
       "</style>\n",
       "<table border=\"1\" class=\"dataframe\">\n",
       "  <thead>\n",
       "    <tr style=\"text-align: right;\">\n",
       "      <th></th>\n",
       "      <th>comment_count</th>\n",
       "      <th>comments_url</th>\n",
       "      <th>created_at</th>\n",
       "      <th>description</th>\n",
       "      <th>downvotes</th>\n",
       "      <th>score</th>\n",
       "      <th>short_id_url</th>\n",
       "      <th>tags</th>\n",
       "      <th>title</th>\n",
       "      <th>upvotes</th>\n",
       "      <th>...</th>\n",
       "      <th>visualization</th>\n",
       "      <th>web</th>\n",
       "      <th>windows</th>\n",
       "      <th>created_hour</th>\n",
       "      <th>created_dow</th>\n",
       "      <th>created_year</th>\n",
       "      <th>scaled_title_popularity</th>\n",
       "      <th>engagement_score</th>\n",
       "      <th>comment_text</th>\n",
       "      <th>comment_sentiment</th>\n",
       "    </tr>\n",
       "  </thead>\n",
       "  <tbody>\n",
       "    <tr>\n",
       "      <th>000yx1</th>\n",
       "      <td>2</td>\n",
       "      <td>https://lobste.rs/s/000yx1/analysis_soviet_smo...</td>\n",
       "      <td>2017-02-10 14:00:25</td>\n",
       "      <td>NaN</td>\n",
       "      <td>0</td>\n",
       "      <td>22</td>\n",
       "      <td>https://lobste.rs/s/000yx1</td>\n",
       "      <td>['hardware', 'historical', 'science']</td>\n",
       "      <td>Analysis of Soviet smoke detector plutonium</td>\n",
       "      <td>22</td>\n",
       "      <td>...</td>\n",
       "      <td>0.0</td>\n",
       "      <td>0.0</td>\n",
       "      <td>0.0</td>\n",
       "      <td>14</td>\n",
       "      <td>4</td>\n",
       "      <td>2017</td>\n",
       "      <td>0.053848</td>\n",
       "      <td>24</td>\n",
       "      <td>[, , Too bad there isn’t a “crazy hobby” tag. ...</td>\n",
       "      <td>0.2500</td>\n",
       "    </tr>\n",
       "    <tr>\n",
       "      <th>001m4w</th>\n",
       "      <td>1</td>\n",
       "      <td>https://lobste.rs/s/001m4w/twitter_already_usi...</td>\n",
       "      <td>2014-11-17 13:20:20</td>\n",
       "      <td>NaN</td>\n",
       "      <td>0</td>\n",
       "      <td>3</td>\n",
       "      <td>https://lobste.rs/s/001m4w</td>\n",
       "      <td>['networking', 'privacy']</td>\n",
       "      <td>Twitter Already Using Verizon's ID to Track Users</td>\n",
       "      <td>3</td>\n",
       "      <td>...</td>\n",
       "      <td>0.0</td>\n",
       "      <td>0.0</td>\n",
       "      <td>0.0</td>\n",
       "      <td>13</td>\n",
       "      <td>0</td>\n",
       "      <td>2014</td>\n",
       "      <td>0.249789</td>\n",
       "      <td>4</td>\n",
       "      <td>[, , Why does a telecom need to target relevan...</td>\n",
       "      <td>0.0000</td>\n",
       "    </tr>\n",
       "    <tr>\n",
       "      <th>002cgs</th>\n",
       "      <td>2</td>\n",
       "      <td>https://lobste.rs/s/002cgs/resilience_ruby</td>\n",
       "      <td>2017-04-18 18:02:19</td>\n",
       "      <td>NaN</td>\n",
       "      <td>0</td>\n",
       "      <td>12</td>\n",
       "      <td>https://lobste.rs/s/002cgs</td>\n",
       "      <td>['programming', 'ruby']</td>\n",
       "      <td>Resilience in Ruby</td>\n",
       "      <td>12</td>\n",
       "      <td>...</td>\n",
       "      <td>0.0</td>\n",
       "      <td>0.0</td>\n",
       "      <td>0.0</td>\n",
       "      <td>18</td>\n",
       "      <td>1</td>\n",
       "      <td>2017</td>\n",
       "      <td>0.102904</td>\n",
       "      <td>14</td>\n",
       "      <td>[, , For sure, option types in Ruby would be n...</td>\n",
       "      <td>0.5023</td>\n",
       "    </tr>\n",
       "    <tr>\n",
       "      <th>006hat</th>\n",
       "      <td>0</td>\n",
       "      <td>https://lobste.rs/s/006hat/hacking_linksys_wmb54g</td>\n",
       "      <td>2012-07-13 15:28:05</td>\n",
       "      <td>NaN</td>\n",
       "      <td>0</td>\n",
       "      <td>7</td>\n",
       "      <td>https://lobste.rs/s/006hat</td>\n",
       "      <td>['hardware', 'security']</td>\n",
       "      <td>Hacking the Linksys WMB54G</td>\n",
       "      <td>7</td>\n",
       "      <td>...</td>\n",
       "      <td>0.0</td>\n",
       "      <td>0.0</td>\n",
       "      <td>0.0</td>\n",
       "      <td>15</td>\n",
       "      <td>4</td>\n",
       "      <td>2012</td>\n",
       "      <td>0.030448</td>\n",
       "      <td>7</td>\n",
       "      <td>[, ]</td>\n",
       "      <td>0.0000</td>\n",
       "    </tr>\n",
       "    <tr>\n",
       "      <th>00adts</th>\n",
       "      <td>1</td>\n",
       "      <td>https://lobste.rs/s/00adts/dying_art_mental_ma...</td>\n",
       "      <td>2016-01-13 10:10:04</td>\n",
       "      <td>NaN</td>\n",
       "      <td>0</td>\n",
       "      <td>7</td>\n",
       "      <td>https://lobste.rs/s/00adts</td>\n",
       "      <td>['math']</td>\n",
       "      <td>The Dying Art of Mental Math Tricks</td>\n",
       "      <td>7</td>\n",
       "      <td>...</td>\n",
       "      <td>0.0</td>\n",
       "      <td>0.0</td>\n",
       "      <td>0.0</td>\n",
       "      <td>10</td>\n",
       "      <td>2</td>\n",
       "      <td>2016</td>\n",
       "      <td>0.049901</td>\n",
       "      <td>8</td>\n",
       "      <td>[, , They say the car saved the horse, in the ...</td>\n",
       "      <td>0.9053</td>\n",
       "    </tr>\n",
       "  </tbody>\n",
       "</table>\n",
       "<p>5 rows × 116 columns</p>\n",
       "</div>"
      ],
      "text/plain": [
       "        comment_count                                       comments_url  \\\n",
       "000yx1              2  https://lobste.rs/s/000yx1/analysis_soviet_smo...   \n",
       "001m4w              1  https://lobste.rs/s/001m4w/twitter_already_usi...   \n",
       "002cgs              2         https://lobste.rs/s/002cgs/resilience_ruby   \n",
       "006hat              0  https://lobste.rs/s/006hat/hacking_linksys_wmb54g   \n",
       "00adts              1  https://lobste.rs/s/00adts/dying_art_mental_ma...   \n",
       "\n",
       "                 created_at description  downvotes  score  \\\n",
       "000yx1  2017-02-10 14:00:25         NaN          0     22   \n",
       "001m4w  2014-11-17 13:20:20         NaN          0      3   \n",
       "002cgs  2017-04-18 18:02:19         NaN          0     12   \n",
       "006hat  2012-07-13 15:28:05         NaN          0      7   \n",
       "00adts  2016-01-13 10:10:04         NaN          0      7   \n",
       "\n",
       "                      short_id_url                                   tags  \\\n",
       "000yx1  https://lobste.rs/s/000yx1  ['hardware', 'historical', 'science']   \n",
       "001m4w  https://lobste.rs/s/001m4w              ['networking', 'privacy']   \n",
       "002cgs  https://lobste.rs/s/002cgs                ['programming', 'ruby']   \n",
       "006hat  https://lobste.rs/s/006hat               ['hardware', 'security']   \n",
       "00adts  https://lobste.rs/s/00adts                               ['math']   \n",
       "\n",
       "                                                    title  upvotes  \\\n",
       "000yx1        Analysis of Soviet smoke detector plutonium       22   \n",
       "001m4w  Twitter Already Using Verizon's ID to Track Users        3   \n",
       "002cgs                                 Resilience in Ruby       12   \n",
       "006hat                         Hacking the Linksys WMB54G        7   \n",
       "00adts                The Dying Art of Mental Math Tricks        7   \n",
       "\n",
       "              ...        visualization  web windows created_hour created_dow  \\\n",
       "000yx1        ...                  0.0  0.0     0.0           14           4   \n",
       "001m4w        ...                  0.0  0.0     0.0           13           0   \n",
       "002cgs        ...                  0.0  0.0     0.0           18           1   \n",
       "006hat        ...                  0.0  0.0     0.0           15           4   \n",
       "00adts        ...                  0.0  0.0     0.0           10           2   \n",
       "\n",
       "        created_year  scaled_title_popularity  engagement_score  \\\n",
       "000yx1          2017                 0.053848                24   \n",
       "001m4w          2014                 0.249789                 4   \n",
       "002cgs          2017                 0.102904                14   \n",
       "006hat          2012                 0.030448                 7   \n",
       "00adts          2016                 0.049901                 8   \n",
       "\n",
       "                                             comment_text comment_sentiment  \n",
       "000yx1  [, , Too bad there isn’t a “crazy hobby” tag. ...            0.2500  \n",
       "001m4w  [, , Why does a telecom need to target relevan...            0.0000  \n",
       "002cgs  [, , For sure, option types in Ruby would be n...            0.5023  \n",
       "006hat                                               [, ]            0.0000  \n",
       "00adts  [, , They say the car saved the horse, in the ...            0.9053  \n",
       "\n",
       "[5 rows x 116 columns]"
      ]
     },
     "execution_count": 26,
     "metadata": {},
     "output_type": "execute_result"
    }
   ],
   "source": [
    "df.head()"
   ]
  },
  {
   "cell_type": "code",
   "execution_count": 70,
   "metadata": {},
   "outputs": [
    {
     "data": {
      "text/html": [
       "<div>\n",
       "<style>\n",
       "    .dataframe thead tr:only-child th {\n",
       "        text-align: right;\n",
       "    }\n",
       "\n",
       "    .dataframe thead th {\n",
       "        text-align: left;\n",
       "    }\n",
       "\n",
       "    .dataframe tbody tr th {\n",
       "        vertical-align: top;\n",
       "    }\n",
       "</style>\n",
       "<table border=\"1\" class=\"dataframe\">\n",
       "  <thead>\n",
       "    <tr style=\"text-align: right;\">\n",
       "      <th></th>\n",
       "      <th>comment_count</th>\n",
       "      <th>comments_url</th>\n",
       "      <th>created_at</th>\n",
       "      <th>description</th>\n",
       "      <th>downvotes</th>\n",
       "      <th>score</th>\n",
       "      <th>short_id_url</th>\n",
       "      <th>tags</th>\n",
       "      <th>title</th>\n",
       "      <th>upvotes</th>\n",
       "      <th>...</th>\n",
       "      <th>visualization</th>\n",
       "      <th>web</th>\n",
       "      <th>windows</th>\n",
       "      <th>created_hour</th>\n",
       "      <th>created_dow</th>\n",
       "      <th>created_year</th>\n",
       "      <th>scaled_title_popularity</th>\n",
       "      <th>engagement_score</th>\n",
       "      <th>comment_text</th>\n",
       "      <th>comment_sentiment</th>\n",
       "    </tr>\n",
       "  </thead>\n",
       "  <tbody>\n",
       "    <tr>\n",
       "      <th>000yx1</th>\n",
       "      <td>2</td>\n",
       "      <td>https://lobste.rs/s/000yx1/analysis_soviet_smo...</td>\n",
       "      <td>2017-02-10 14:00:25</td>\n",
       "      <td>NaN</td>\n",
       "      <td>0</td>\n",
       "      <td>22</td>\n",
       "      <td>https://lobste.rs/s/000yx1</td>\n",
       "      <td>['hardware', 'historical', 'science']</td>\n",
       "      <td>Analysis of Soviet smoke detector plutonium</td>\n",
       "      <td>22</td>\n",
       "      <td>...</td>\n",
       "      <td>0.0</td>\n",
       "      <td>0.0</td>\n",
       "      <td>0.0</td>\n",
       "      <td>14</td>\n",
       "      <td>4</td>\n",
       "      <td>2017</td>\n",
       "      <td>0.053848</td>\n",
       "      <td>24</td>\n",
       "      <td>[, , Too bad there isn’t a “crazy hobby” tag. ...</td>\n",
       "      <td>0.2500</td>\n",
       "    </tr>\n",
       "    <tr>\n",
       "      <th>001m4w</th>\n",
       "      <td>1</td>\n",
       "      <td>https://lobste.rs/s/001m4w/twitter_already_usi...</td>\n",
       "      <td>2014-11-17 13:20:20</td>\n",
       "      <td>NaN</td>\n",
       "      <td>0</td>\n",
       "      <td>3</td>\n",
       "      <td>https://lobste.rs/s/001m4w</td>\n",
       "      <td>['networking', 'privacy']</td>\n",
       "      <td>Twitter Already Using Verizon's ID to Track Users</td>\n",
       "      <td>3</td>\n",
       "      <td>...</td>\n",
       "      <td>0.0</td>\n",
       "      <td>0.0</td>\n",
       "      <td>0.0</td>\n",
       "      <td>13</td>\n",
       "      <td>0</td>\n",
       "      <td>2014</td>\n",
       "      <td>0.249789</td>\n",
       "      <td>4</td>\n",
       "      <td>[, , Why does a telecom need to target relevan...</td>\n",
       "      <td>0.0000</td>\n",
       "    </tr>\n",
       "    <tr>\n",
       "      <th>002cgs</th>\n",
       "      <td>2</td>\n",
       "      <td>https://lobste.rs/s/002cgs/resilience_ruby</td>\n",
       "      <td>2017-04-18 18:02:19</td>\n",
       "      <td>NaN</td>\n",
       "      <td>0</td>\n",
       "      <td>12</td>\n",
       "      <td>https://lobste.rs/s/002cgs</td>\n",
       "      <td>['programming', 'ruby']</td>\n",
       "      <td>Resilience in Ruby</td>\n",
       "      <td>12</td>\n",
       "      <td>...</td>\n",
       "      <td>0.0</td>\n",
       "      <td>0.0</td>\n",
       "      <td>0.0</td>\n",
       "      <td>18</td>\n",
       "      <td>1</td>\n",
       "      <td>2017</td>\n",
       "      <td>0.102904</td>\n",
       "      <td>14</td>\n",
       "      <td>[, , For sure, option types in Ruby would be n...</td>\n",
       "      <td>0.5023</td>\n",
       "    </tr>\n",
       "    <tr>\n",
       "      <th>006hat</th>\n",
       "      <td>0</td>\n",
       "      <td>https://lobste.rs/s/006hat/hacking_linksys_wmb54g</td>\n",
       "      <td>2012-07-13 15:28:05</td>\n",
       "      <td>NaN</td>\n",
       "      <td>0</td>\n",
       "      <td>7</td>\n",
       "      <td>https://lobste.rs/s/006hat</td>\n",
       "      <td>['hardware', 'security']</td>\n",
       "      <td>Hacking the Linksys WMB54G</td>\n",
       "      <td>7</td>\n",
       "      <td>...</td>\n",
       "      <td>0.0</td>\n",
       "      <td>0.0</td>\n",
       "      <td>0.0</td>\n",
       "      <td>15</td>\n",
       "      <td>4</td>\n",
       "      <td>2012</td>\n",
       "      <td>0.030448</td>\n",
       "      <td>7</td>\n",
       "      <td>[, ]</td>\n",
       "      <td>0.0000</td>\n",
       "    </tr>\n",
       "    <tr>\n",
       "      <th>00adts</th>\n",
       "      <td>1</td>\n",
       "      <td>https://lobste.rs/s/00adts/dying_art_mental_ma...</td>\n",
       "      <td>2016-01-13 10:10:04</td>\n",
       "      <td>NaN</td>\n",
       "      <td>0</td>\n",
       "      <td>7</td>\n",
       "      <td>https://lobste.rs/s/00adts</td>\n",
       "      <td>['math']</td>\n",
       "      <td>The Dying Art of Mental Math Tricks</td>\n",
       "      <td>7</td>\n",
       "      <td>...</td>\n",
       "      <td>0.0</td>\n",
       "      <td>0.0</td>\n",
       "      <td>0.0</td>\n",
       "      <td>10</td>\n",
       "      <td>2</td>\n",
       "      <td>2016</td>\n",
       "      <td>0.049901</td>\n",
       "      <td>8</td>\n",
       "      <td>[, , They say the car saved the horse, in the ...</td>\n",
       "      <td>0.9053</td>\n",
       "    </tr>\n",
       "  </tbody>\n",
       "</table>\n",
       "<p>5 rows × 116 columns</p>\n",
       "</div>"
      ],
      "text/plain": [
       "        comment_count                                       comments_url  \\\n",
       "000yx1              2  https://lobste.rs/s/000yx1/analysis_soviet_smo...   \n",
       "001m4w              1  https://lobste.rs/s/001m4w/twitter_already_usi...   \n",
       "002cgs              2         https://lobste.rs/s/002cgs/resilience_ruby   \n",
       "006hat              0  https://lobste.rs/s/006hat/hacking_linksys_wmb54g   \n",
       "00adts              1  https://lobste.rs/s/00adts/dying_art_mental_ma...   \n",
       "\n",
       "                 created_at description  downvotes  score  \\\n",
       "000yx1  2017-02-10 14:00:25         NaN          0     22   \n",
       "001m4w  2014-11-17 13:20:20         NaN          0      3   \n",
       "002cgs  2017-04-18 18:02:19         NaN          0     12   \n",
       "006hat  2012-07-13 15:28:05         NaN          0      7   \n",
       "00adts  2016-01-13 10:10:04         NaN          0      7   \n",
       "\n",
       "                      short_id_url                                   tags  \\\n",
       "000yx1  https://lobste.rs/s/000yx1  ['hardware', 'historical', 'science']   \n",
       "001m4w  https://lobste.rs/s/001m4w              ['networking', 'privacy']   \n",
       "002cgs  https://lobste.rs/s/002cgs                ['programming', 'ruby']   \n",
       "006hat  https://lobste.rs/s/006hat               ['hardware', 'security']   \n",
       "00adts  https://lobste.rs/s/00adts                               ['math']   \n",
       "\n",
       "                                                    title  upvotes  \\\n",
       "000yx1        Analysis of Soviet smoke detector plutonium       22   \n",
       "001m4w  Twitter Already Using Verizon's ID to Track Users        3   \n",
       "002cgs                                 Resilience in Ruby       12   \n",
       "006hat                         Hacking the Linksys WMB54G        7   \n",
       "00adts                The Dying Art of Mental Math Tricks        7   \n",
       "\n",
       "              ...        visualization  web windows created_hour created_dow  \\\n",
       "000yx1        ...                  0.0  0.0     0.0           14           4   \n",
       "001m4w        ...                  0.0  0.0     0.0           13           0   \n",
       "002cgs        ...                  0.0  0.0     0.0           18           1   \n",
       "006hat        ...                  0.0  0.0     0.0           15           4   \n",
       "00adts        ...                  0.0  0.0     0.0           10           2   \n",
       "\n",
       "        created_year  scaled_title_popularity  engagement_score  \\\n",
       "000yx1          2017                 0.053848                24   \n",
       "001m4w          2014                 0.249789                 4   \n",
       "002cgs          2017                 0.102904                14   \n",
       "006hat          2012                 0.030448                 7   \n",
       "00adts          2016                 0.049901                 8   \n",
       "\n",
       "                                             comment_text comment_sentiment  \n",
       "000yx1  [, , Too bad there isn’t a “crazy hobby” tag. ...            0.2500  \n",
       "001m4w  [, , Why does a telecom need to target relevan...            0.0000  \n",
       "002cgs  [, , For sure, option types in Ruby would be n...            0.5023  \n",
       "006hat                                               [, ]            0.0000  \n",
       "00adts  [, , They say the car saved the horse, in the ...            0.9053  \n",
       "\n",
       "[5 rows x 116 columns]"
      ]
     },
     "execution_count": 70,
     "metadata": {},
     "output_type": "execute_result"
    }
   ],
   "source": [
    "df.head()"
   ]
  },
  {
   "cell_type": "code",
   "execution_count": 35,
   "metadata": {
    "collapsed": true
   },
   "outputs": [],
   "source": [
    "og_df = df"
   ]
  },
  {
   "cell_type": "code",
   "execution_count": 39,
   "metadata": {
    "collapsed": true
   },
   "outputs": [],
   "source": [
    "#grouping by comment sentiment shows those who have produces the mose positive comments on the site\n",
    "total_comment_sentiment = df.groupby('username')['comment_sentiment'].mean()"
   ]
  },
  {
   "cell_type": "code",
   "execution_count": 38,
   "metadata": {},
   "outputs": [
    {
     "name": "stdout",
     "output_type": "stream",
     "text": [
      "<pandas.core.groupby.SeriesGroupBy object at 0x000002562BCDFC50>\n"
     ]
    }
   ],
   "source": [
    "print(total_comment_sentiment)"
   ]
  },
  {
   "cell_type": "code",
   "execution_count": 31,
   "metadata": {},
   "outputs": [
    {
     "data": {
      "text/plain": [
       "28801"
      ]
     },
     "execution_count": 31,
     "metadata": {},
     "output_type": "execute_result"
    }
   ],
   "source": [
    "df['comment_sentiment'].count()"
   ]
  },
  {
   "cell_type": "code",
   "execution_count": 36,
   "metadata": {},
   "outputs": [],
   "source": [
    "df['comment_sentiment'] = df['comment_sentiment'].apply(pd.to_numeric)"
   ]
  },
  {
   "cell_type": "code",
   "execution_count": 40,
   "metadata": {},
   "outputs": [],
   "source": [
    "#Find average commentiment per post per username if they have posted 10 or more times\n",
    "avg_postsent_by_user = total_comment_sentiment\n",
    "avg_postsent_by_user = avg_postsent_by_user.dropna()"
   ]
  },
  {
   "cell_type": "code",
   "execution_count": 41,
   "metadata": {},
   "outputs": [
    {
     "name": "stdout",
     "output_type": "stream",
     "text": [
      "0.3452474684295224\n"
     ]
    }
   ],
   "source": [
    "#find the standard deviation of the comment sentiment\n",
    "stdev_comsent = stat.stdev(avg_postsent_by_user)\n",
    "print(stdev_comsent)"
   ]
  },
  {
   "cell_type": "code",
   "execution_count": 42,
   "metadata": {},
   "outputs": [
    {
     "name": "stdout",
     "output_type": "stream",
     "text": [
      "0.28929492633576687\n"
     ]
    }
   ],
   "source": [
    "#mean of the comment sentiment\n",
    "mean_comsent = stat.mean(avg_postsent_by_user)\n",
    "print(mean_comsent)"
   ]
  },
  {
   "cell_type": "code",
   "execution_count": 71,
   "metadata": {
    "collapsed": true
   },
   "outputs": [],
   "source": [
    "df=avg_postsent_by_user"
   ]
  },
  {
   "cell_type": "code",
   "execution_count": 72,
   "metadata": {
    "collapsed": true
   },
   "outputs": [],
   "source": [
    "#find comment sentiment standard deviation levels\n",
    "one_comsent_stdev = stdev_comsent +mean_comsent\n",
    "two_comsent_stdev = (stdev_comsent*2) + mean_comsent\n",
    "three_comsent_stdev = (stdev_comsent*3) + mean_comsent\n",
    "stdev1dfcs = df.drop(df[df < one_comsent_stdev].index)\n",
    "stdev2dfcs = df.drop(df[df < two_comsent_stdev].index)\n",
    "stdev3dfcs = df.drop(df[df < three_comsent_stdev].index)"
   ]
  },
  {
   "cell_type": "code",
   "execution_count": 73,
   "metadata": {},
   "outputs": [
    {
     "name": "stdout",
     "output_type": "stream",
     "text": [
      "0.6345423947652893\n"
     ]
    }
   ],
   "source": [
    "print(one_comsent_stdev)"
   ]
  },
  {
   "cell_type": "code",
   "execution_count": 68,
   "metadata": {
    "collapsed": true
   },
   "outputs": [],
   "source": [
    "stdev1dfcs = df.drop(df[df < one_comsent_stdev].index)"
   ]
  },
  {
   "cell_type": "code",
   "execution_count": 74,
   "metadata": {},
   "outputs": [
    {
     "name": "stdout",
     "output_type": "stream",
     "text": [
      "username\n",
      "0x2ba22e11            0.727500\n",
      "Adir                  0.929050\n",
      "Alodium               0.999300\n",
      "AutomaticHourglass    0.854800\n",
      "Boojum                0.795100\n",
      "Cale                  0.921400\n",
      "Charlotteis           0.865300\n",
      "Clex                  0.952200\n",
      "DyslexicAtheist       0.712550\n",
      "EamonLeonard          0.999300\n",
      "EduardoBautista       0.711225\n",
      "Evild                 0.949500\n",
      "Frej                  0.997900\n",
      "Hates_                0.680800\n",
      "Irene                 0.703956\n",
      "Jalada                0.900100\n",
      "Leonidas              0.962500\n",
      "Luke                  0.992450\n",
      "MSch                  0.805700\n",
      "Manishearth           0.687967\n",
      "Mathiasdm             0.860800\n",
      "Mrat                  0.999600\n",
      "Pushups               0.980300\n",
      "Rickenharp            0.986000\n",
      "Shapr                 0.658100\n",
      "Somebody              0.941767\n",
      "The-Compiler          0.997400\n",
      "The_Kulk              0.962700\n",
      "Treffynnon            0.834200\n",
      "VictorBjelkholm       0.874400\n",
      "                        ...   \n",
      "vendion               0.990400\n",
      "vista                 0.706500\n",
      "vladaionescu          0.967900\n",
      "voronoipotato         0.791850\n",
      "voxpelli              0.953450\n",
      "wambotron             0.995000\n",
      "weaksauce             0.937400\n",
      "webjay                0.682500\n",
      "whjms                 0.765350\n",
      "whyrusleeping         0.799700\n",
      "wilkie                0.968000\n",
      "willsewell            0.648600\n",
      "wjh                   0.736525\n",
      "wozmir                0.966400\n",
      "wrl                   0.993300\n",
      "wunderseltsam         0.888500\n",
      "wxs                   0.976800\n",
      "wycats                0.785567\n",
      "xaprb                 0.966000\n",
      "xero                  0.658233\n",
      "xmj                   0.963400\n",
      "xtian                 0.993400\n",
      "xyz                   0.922620\n",
      "yegor256              0.999900\n",
      "yvonne-chen           0.991500\n",
      "zack                  0.944200\n",
      "zalew                 0.964100\n",
      "zedgoat               0.716800\n",
      "zodvik                0.982200\n",
      "zx2c4                 0.865850\n",
      "Name: comment_sentiment, Length: 362, dtype: float64\n"
     ]
    }
   ],
   "source": [
    "print(stdev1dfcs)"
   ]
  },
  {
   "cell_type": "code",
   "execution_count": 44,
   "metadata": {},
   "outputs": [
    {
     "name": "stdout",
     "output_type": "stream",
     "text": [
      "username\n",
      "0                       75\n",
      "0x2ba22e11               6\n",
      "0xfg                     4\n",
      "1amzave                 46\n",
      "355E3B                2130\n",
      "4ad                     78\n",
      "ANTStorm                 4\n",
      "AdamGibbins             74\n",
      "Adir                     8\n",
      "AlexGilleran             6\n",
      "AliasIO                 17\n",
      "Alodium                  2\n",
      "AmirRachum              68\n",
      "AntonioMeireles          3\n",
      "Aranje                   2\n",
      "Arrgh                   16\n",
      "Astyan                   3\n",
      "AutomaticHourglass       8\n",
      "Axman6                 117\n",
      "Benedmunds               1\n",
      "BonacaTalk               2\n",
      "Bonbonia                 3\n",
      "Boojum                   9\n",
      "BruceM                2579\n",
      "Bystroushaak            93\n",
      "C-Keen                 210\n",
      "CS                      13\n",
      "Cale                     6\n",
      "Caustic                  7\n",
      "Charlotteis              1\n",
      "                      ... \n",
      "yvonne-chen             16\n",
      "z3bra                   29\n",
      "za_creature              2\n",
      "zacbrown               289\n",
      "zachwill                 4\n",
      "zack                    11\n",
      "zacstewart              37\n",
      "zalew                   11\n",
      "zaphar                   1\n",
      "zbskii                  10\n",
      "zdsmith                 96\n",
      "zdx                      1\n",
      "zedgoat                 61\n",
      "zedoary                 70\n",
      "zee                      5\n",
      "zeebo                    6\n",
      "zeeshanlakhani          81\n",
      "zem                   2206\n",
      "zg                    1997\n",
      "zgrep                  215\n",
      "zhemao                 769\n",
      "zigg                    25\n",
      "zkms                     7\n",
      "zmcartor               101\n",
      "zod000                 197\n",
      "zodvik                  11\n",
      "ztellman               150\n",
      "zx2c4                   28\n",
      "zxtx                     8\n",
      "zzing                   21\n",
      "Name: engagement_score, Length: 2116, dtype: int64\n"
     ]
    }
   ],
   "source": [
    "#total engagement score per username\n",
    "print(total_engagement_score_by_usn)"
   ]
  },
  {
   "cell_type": "code",
   "execution_count": 45,
   "metadata": {},
   "outputs": [
    {
     "name": "stdout",
     "output_type": "stream",
     "text": [
      "username\n",
      "0                     0.283900\n",
      "0x2ba22e11            0.727500\n",
      "0xfg                  0.000000\n",
      "1amzave               0.231675\n",
      "355E3B                0.266660\n",
      "4ad                   0.434567\n",
      "ANTStorm              0.000000\n",
      "AdamGibbins          -0.003200\n",
      "Adir                  0.929050\n",
      "AlexGilleran          0.000000\n",
      "AliasIO               0.413750\n",
      "Alodium               0.999300\n",
      "AmirRachum            0.083525\n",
      "AntonioMeireles       0.000000\n",
      "Aranje                0.361200\n",
      "Arrgh                 0.361200\n",
      "Astyan                0.000000\n",
      "AutomaticHourglass    0.854800\n",
      "Axman6                0.265014\n",
      "Benedmunds            0.000000\n",
      "BonacaTalk            0.000000\n",
      "Bonbonia              0.000000\n",
      "Boojum                0.795100\n",
      "BruceM                0.335520\n",
      "Bystroushaak          0.327567\n",
      "C-Keen                0.546536\n",
      "CS                    0.034233\n",
      "Cale                  0.921400\n",
      "Caustic               0.525600\n",
      "Charlotteis           0.865300\n",
      "                        ...   \n",
      "yvonne-chen           0.991500\n",
      "z3bra                 0.394950\n",
      "za_creature           0.000000\n",
      "zacbrown              0.304357\n",
      "zachwill              0.000000\n",
      "zack                  0.944200\n",
      "zacstewart            0.362775\n",
      "zalew                 0.964100\n",
      "zaphar                0.000000\n",
      "zbskii                0.000000\n",
      "zdsmith               0.499300\n",
      "zdx                   0.000000\n",
      "zedgoat               0.716800\n",
      "zedoary               0.374329\n",
      "zee                   0.000000\n",
      "zeebo                 0.000000\n",
      "zeeshanlakhani        0.392375\n",
      "zem                   0.241749\n",
      "zg                    0.357573\n",
      "zgrep                 0.095795\n",
      "zhemao                0.374595\n",
      "zigg                  0.038667\n",
      "zkms                  0.000000\n",
      "zmcartor              0.207921\n",
      "zod000                0.209185\n",
      "zodvik                0.982200\n",
      "ztellman              0.232409\n",
      "zx2c4                 0.865850\n",
      "zxtx                  0.000000\n",
      "zzing                -0.971800\n",
      "Name: comment_sentiment, Length: 2116, dtype: float64\n"
     ]
    }
   ],
   "source": [
    "#total comment sentitment per username\n",
    "print(total_comment_sentiment)"
   ]
  },
  {
   "cell_type": "code",
   "execution_count": 46,
   "metadata": {},
   "outputs": [
    {
     "name": "stdout",
     "output_type": "stream",
     "text": [
      "username\n",
      "0                     5\n",
      "1amzave               8\n",
      "355E3B              160\n",
      "AdamGibbins          11\n",
      "AmirRachum           12\n",
      "Axman6                7\n",
      "BruceM              161\n",
      "Bystroushaak          9\n",
      "C-Keen               11\n",
      "ChrisShort           15\n",
      "Curiositry           25\n",
      "DRMacIver            53\n",
      "DanTup               23\n",
      "Dawny33             104\n",
      "DocSavage             8\n",
      "Don_Pellegrino        7\n",
      "DrM                  26\n",
      "Ecto5                 7\n",
      "EthanHeilman          8\n",
      "FRIGN                 5\n",
      "Flisk                 6\n",
      "FooBarWidget          5\n",
      "GMW                   5\n",
      "Gargi                 6\n",
      "GeoffWozniak         36\n",
      "InakaESI              6\n",
      "InkyHarmonics         7\n",
      "Irene                 9\n",
      "JeffreyBaird          6\n",
      "JeremyMorgan         87\n",
      "                   ... \n",
      "wally                67\n",
      "weakforce             9\n",
      "wetzler               8\n",
      "whbboyd              22\n",
      "whyrusleeping         5\n",
      "wiedi                12\n",
      "wikimatze             8\n",
      "wildlyinaccurate      5\n",
      "wje                   5\n",
      "wmoxam               10\n",
      "worr                 11\n",
      "wsdookadr            16\n",
      "wting                32\n",
      "wyeworks              6\n",
      "xcombelle            30\n",
      "xpostman             10\n",
      "xyz                   5\n",
      "yawniek               7\n",
      "yminsky               9\n",
      "yumaikas             29\n",
      "zacbrown             21\n",
      "zedoary               7\n",
      "zeeshanlakhani        8\n",
      "zem                 248\n",
      "zg                  126\n",
      "zgrep                19\n",
      "zhemao               62\n",
      "zmcartor             19\n",
      "zod000               26\n",
      "ztellman             11\n",
      "Name: engagement_score, Length: 748, dtype: int64\n"
     ]
    }
   ],
   "source": [
    "#number of posts by usernmae\n",
    "print(total_posts_by_usn)"
   ]
  },
  {
   "cell_type": "code",
   "execution_count": 47,
   "metadata": {},
   "outputs": [
    {
     "name": "stdout",
     "output_type": "stream",
     "text": [
      "username\n",
      "0                   15.000000\n",
      "1amzave              5.750000\n",
      "355E3B              13.312500\n",
      "AdamGibbins          6.727273\n",
      "AmirRachum           5.666667\n",
      "Axman6              16.714286\n",
      "BruceM              16.018634\n",
      "Bystroushaak        10.333333\n",
      "C-Keen              19.090909\n",
      "ChrisShort          13.200000\n",
      "Curiositry          11.200000\n",
      "DRMacIver           19.056604\n",
      "DanTup              12.173913\n",
      "Dawny33              8.817308\n",
      "DocSavage            8.500000\n",
      "Don_Pellegrino       9.571429\n",
      "DrM                 11.769231\n",
      "Ecto5                4.428571\n",
      "EthanHeilman         7.750000\n",
      "FRIGN               31.000000\n",
      "Flisk               20.000000\n",
      "FooBarWidget         3.800000\n",
      "GMW                 10.000000\n",
      "Gargi                5.500000\n",
      "GeoffWozniak        15.305556\n",
      "InakaESI             2.000000\n",
      "InkyHarmonics        4.714286\n",
      "Irene               23.777778\n",
      "JeffreyBaird         5.166667\n",
      "JeremyMorgan         6.735632\n",
      "                      ...    \n",
      "wally               10.970149\n",
      "weakforce            4.777778\n",
      "wetzler              5.000000\n",
      "whbboyd             22.272727\n",
      "whyrusleeping       49.000000\n",
      "wiedi               21.500000\n",
      "wikimatze            5.000000\n",
      "wildlyinaccurate    17.200000\n",
      "wje                 16.800000\n",
      "wmoxam              10.300000\n",
      "worr                24.636364\n",
      "wsdookadr            4.937500\n",
      "wting               13.718750\n",
      "wyeworks             4.000000\n",
      "xcombelle           13.066667\n",
      "xpostman             6.300000\n",
      "xyz                 29.200000\n",
      "yawniek              7.428571\n",
      "yminsky             13.222222\n",
      "yumaikas            18.655172\n",
      "zacbrown            13.761905\n",
      "zedoary             10.000000\n",
      "zeeshanlakhani      10.125000\n",
      "zem                  8.895161\n",
      "zg                  15.849206\n",
      "zgrep               11.315789\n",
      "zhemao              12.403226\n",
      "zmcartor             5.315789\n",
      "zod000               7.576923\n",
      "ztellman            13.636364\n",
      "Name: engagement_score, Length: 748, dtype: float64\n"
     ]
    }
   ],
   "source": [
    "#average post engagement per username\n",
    "print(avg_engagement_by_user)"
   ]
  },
  {
   "cell_type": "code",
   "execution_count": 48,
   "metadata": {},
   "outputs": [
    {
     "name": "stdout",
     "output_type": "stream",
     "text": [
      "username\n",
      "0                     0.283900\n",
      "0x2ba22e11            0.727500\n",
      "0xfg                  0.000000\n",
      "1amzave               0.231675\n",
      "355E3B                0.266660\n",
      "4ad                   0.434567\n",
      "ANTStorm              0.000000\n",
      "AdamGibbins          -0.003200\n",
      "Adir                  0.929050\n",
      "AlexGilleran          0.000000\n",
      "AliasIO               0.413750\n",
      "Alodium               0.999300\n",
      "AmirRachum            0.083525\n",
      "AntonioMeireles       0.000000\n",
      "Aranje                0.361200\n",
      "Arrgh                 0.361200\n",
      "Astyan                0.000000\n",
      "AutomaticHourglass    0.854800\n",
      "Axman6                0.265014\n",
      "Benedmunds            0.000000\n",
      "BonacaTalk            0.000000\n",
      "Bonbonia              0.000000\n",
      "Boojum                0.795100\n",
      "BruceM                0.335520\n",
      "Bystroushaak          0.327567\n",
      "C-Keen                0.546536\n",
      "CS                    0.034233\n",
      "Cale                  0.921400\n",
      "Caustic               0.525600\n",
      "Charlotteis           0.865300\n",
      "                        ...   \n",
      "yvonne-chen           0.991500\n",
      "z3bra                 0.394950\n",
      "za_creature           0.000000\n",
      "zacbrown              0.304357\n",
      "zachwill              0.000000\n",
      "zack                  0.944200\n",
      "zacstewart            0.362775\n",
      "zalew                 0.964100\n",
      "zaphar                0.000000\n",
      "zbskii                0.000000\n",
      "zdsmith               0.499300\n",
      "zdx                   0.000000\n",
      "zedgoat               0.716800\n",
      "zedoary               0.374329\n",
      "zee                   0.000000\n",
      "zeebo                 0.000000\n",
      "zeeshanlakhani        0.392375\n",
      "zem                   0.241749\n",
      "zg                    0.357573\n",
      "zgrep                 0.095795\n",
      "zhemao                0.374595\n",
      "zigg                  0.038667\n",
      "zkms                  0.000000\n",
      "zmcartor              0.207921\n",
      "zod000                0.209185\n",
      "zodvik                0.982200\n",
      "ztellman              0.232409\n",
      "zx2c4                 0.865850\n",
      "zxtx                  0.000000\n",
      "zzing                -0.971800\n",
      "Name: comment_sentiment, Length: 2116, dtype: float64\n"
     ]
    }
   ],
   "source": [
    "#average post sentiment by user for use in determining posters that create most positive community reaction\n",
    "print(avg_postsent_by_user)"
   ]
  },
  {
   "cell_type": "code",
   "execution_count": 49,
   "metadata": {},
   "outputs": [
    {
     "name": "stdout",
     "output_type": "stream",
     "text": [
      "username\n",
      "C-Keen             19.090909\n",
      "DRMacIver          19.056604\n",
      "FRIGN              31.000000\n",
      "Flisk              20.000000\n",
      "Irene              23.777778\n",
      "JordiGH            19.904762\n",
      "SirSkidmore        20.500000\n",
      "UkiahSmith         20.777778\n",
      "a-109-107          26.500000\n",
      "acatton            24.800000\n",
      "akurilin           19.142857\n",
      "albino             18.600000\n",
      "alek               29.400000\n",
      "algernon           19.260870\n",
      "andrewnez          18.916667\n",
      "ane                24.250000\n",
      "apc                32.000000\n",
      "aphyr              38.111111\n",
      "arcatan            24.933333\n",
      "arrdem             30.909091\n",
      "awal               25.631579\n",
      "bill               20.166667\n",
      "bmercer            23.888889\n",
      "brinker            25.705882\n",
      "brynet             38.250000\n",
      "burntsushi         19.090909\n",
      "caius              46.000000\n",
      "chilicuil          20.333333\n",
      "cmhamill           19.875000\n",
      "conroy             30.222222\n",
      "                     ...    \n",
      "mattgreenrocks     23.000000\n",
      "meskarune          33.222222\n",
      "michaelochurch     21.086207\n",
      "mostly-harmless    31.833333\n",
      "mperham            19.888889\n",
      "nateberkopec       20.285714\n",
      "nhooyr             26.400000\n",
      "orib               20.444444\n",
      "oz                 18.588235\n",
      "pab                24.666667\n",
      "patrickod          18.928571\n",
      "pxi                25.833333\n",
      "reezer             19.571429\n",
      "resir014           27.125000\n",
      "robbiev            21.833333\n",
      "rodolfo            18.727273\n",
      "rubenbarroso       19.852941\n",
      "sagi               19.875000\n",
      "sajith             21.666667\n",
      "sivers             23.200000\n",
      "soc                19.380952\n",
      "szalansky          18.318182\n",
      "uggedal            22.320000\n",
      "vyodaiken          28.550000\n",
      "whbboyd            22.272727\n",
      "whyrusleeping      49.000000\n",
      "wiedi              21.500000\n",
      "worr               24.636364\n",
      "xyz                29.200000\n",
      "yumaikas           18.655172\n",
      "Name: engagement_score, Length: 96, dtype: float64\n"
     ]
    }
   ],
   "source": [
    "#Usernames 1 or more standard deviations from the average post engagement score mean\n",
    "print(stdev1df)"
   ]
  },
  {
   "cell_type": "code",
   "execution_count": 50,
   "metadata": {},
   "outputs": [
    {
     "name": "stdout",
     "output_type": "stream",
     "text": [
      "username\n",
      "FRIGN              31.000000\n",
      "a-109-107          26.500000\n",
      "acatton            24.800000\n",
      "alek               29.400000\n",
      "apc                32.000000\n",
      "aphyr              38.111111\n",
      "arcatan            24.933333\n",
      "arrdem             30.909091\n",
      "awal               25.631579\n",
      "brinker            25.705882\n",
      "brynet             38.250000\n",
      "caius              46.000000\n",
      "conroy             30.222222\n",
      "davidjpeacock      26.125000\n",
      "enn                27.666667\n",
      "ericdykstra        31.333333\n",
      "felixgallo         27.000000\n",
      "gecko              27.000000\n",
      "gluegadget         30.200000\n",
      "howdoipython       33.444444\n",
      "isagalaev          26.400000\n",
      "iv                 26.428571\n",
      "japesinator        48.000000\n",
      "kaiju              24.500000\n",
      "kyrias             25.714286\n",
      "lenary             33.000000\n",
      "maqio              27.916667\n",
      "marvindanig        27.625000\n",
      "meskarune          33.222222\n",
      "mostly-harmless    31.833333\n",
      "nhooyr             26.400000\n",
      "pab                24.666667\n",
      "pxi                25.833333\n",
      "resir014           27.125000\n",
      "vyodaiken          28.550000\n",
      "whyrusleeping      49.000000\n",
      "worr               24.636364\n",
      "xyz                29.200000\n",
      "Name: engagement_score, dtype: float64\n"
     ]
    }
   ],
   "source": [
    "#Usernames 2 or more standard deviations from the average post engagement score mean\n",
    "print(stdev2df)"
   ]
  },
  {
   "cell_type": "code",
   "execution_count": 51,
   "metadata": {},
   "outputs": [
    {
     "name": "stdout",
     "output_type": "stream",
     "text": [
      "username\n",
      "apc                32.000000\n",
      "aphyr              38.111111\n",
      "brynet             38.250000\n",
      "caius              46.000000\n",
      "ericdykstra        31.333333\n",
      "howdoipython       33.444444\n",
      "japesinator        48.000000\n",
      "lenary             33.000000\n",
      "meskarune          33.222222\n",
      "mostly-harmless    31.833333\n",
      "whyrusleeping      49.000000\n",
      "Name: engagement_score, dtype: float64\n"
     ]
    }
   ],
   "source": [
    "#Usernames 3 or more standard deviations from the average post engagement score mean\n",
    "print(stdev3df)"
   ]
  },
  {
   "cell_type": "code",
   "execution_count": 78,
   "metadata": {},
   "outputs": [
    {
     "name": "stdout",
     "output_type": "stream",
     "text": [
      "username\n",
      "0x2ba22e11            0.727500\n",
      "Adir                  0.929050\n",
      "Alodium               0.999300\n",
      "AutomaticHourglass    0.854800\n",
      "Boojum                0.795100\n",
      "Cale                  0.921400\n",
      "Charlotteis           0.865300\n",
      "Clex                  0.952200\n",
      "DyslexicAtheist       0.712550\n",
      "EamonLeonard          0.999300\n",
      "EduardoBautista       0.711225\n",
      "Evild                 0.949500\n",
      "Frej                  0.997900\n",
      "Hates_                0.680800\n",
      "Irene                 0.703956\n",
      "Jalada                0.900100\n",
      "Leonidas              0.962500\n",
      "Luke                  0.992450\n",
      "MSch                  0.805700\n",
      "Manishearth           0.687967\n",
      "Mathiasdm             0.860800\n",
      "Mrat                  0.999600\n",
      "Pushups               0.980300\n",
      "Rickenharp            0.986000\n",
      "Shapr                 0.658100\n",
      "Somebody              0.941767\n",
      "The-Compiler          0.997400\n",
      "The_Kulk              0.962700\n",
      "Treffynnon            0.834200\n",
      "VictorBjelkholm       0.874400\n",
      "                        ...   \n",
      "vendion               0.990400\n",
      "vista                 0.706500\n",
      "vladaionescu          0.967900\n",
      "voronoipotato         0.791850\n",
      "voxpelli              0.953450\n",
      "wambotron             0.995000\n",
      "weaksauce             0.937400\n",
      "webjay                0.682500\n",
      "whjms                 0.765350\n",
      "whyrusleeping         0.799700\n",
      "wilkie                0.968000\n",
      "willsewell            0.648600\n",
      "wjh                   0.736525\n",
      "wozmir                0.966400\n",
      "wrl                   0.993300\n",
      "wunderseltsam         0.888500\n",
      "wxs                   0.976800\n",
      "wycats                0.785567\n",
      "xaprb                 0.966000\n",
      "xero                  0.658233\n",
      "xmj                   0.963400\n",
      "xtian                 0.993400\n",
      "xyz                   0.922620\n",
      "yegor256              0.999900\n",
      "yvonne-chen           0.991500\n",
      "zack                  0.944200\n",
      "zalew                 0.964100\n",
      "zedgoat               0.716800\n",
      "zodvik                0.982200\n",
      "zx2c4                 0.865850\n",
      "Name: comment_sentiment, Length: 362, dtype: float64\n"
     ]
    }
   ],
   "source": [
    "#Usernames 1 or more standard deviations from the average post comment sentiment mean\n",
    "print(stdev1dfcs)"
   ]
  },
  {
   "cell_type": "code",
   "execution_count": 79,
   "metadata": {},
   "outputs": [
    {
     "name": "stdout",
     "output_type": "stream",
     "text": [
      "username\n",
      "Alodium            0.99930\n",
      "EamonLeonard       0.99930\n",
      "Frej               0.99790\n",
      "Luke               0.99245\n",
      "Mrat               0.99960\n",
      "Pushups            0.98030\n",
      "Rickenharp         0.98600\n",
      "The-Compiler       0.99740\n",
      "Widdershin         0.99950\n",
      "ZtF                0.98730\n",
      "aminb              0.99935\n",
      "anarcat            0.98520\n",
      "andrewrk           0.99890\n",
      "andrewshadura      0.99880\n",
      "anouk              0.99800\n",
      "basus              0.99230\n",
      "batasrki           0.99890\n",
      "bcrescimanno       0.98890\n",
      "benaiah            0.99190\n",
      "benoliver999       0.98290\n",
      "binsearch          0.99800\n",
      "bnewbold           0.98390\n",
      "brianmichel        0.99400\n",
      "checkyoursix       0.99870\n",
      "code               0.98360\n",
      "dan                0.99390\n",
      "danielzarick       0.98020\n",
      "danso              0.99850\n",
      "dervondenbergen    0.99590\n",
      "di                 0.99170\n",
      "                    ...   \n",
      "nicferrier         0.98350\n",
      "noqqe              0.99880\n",
      "ohmfox             0.99030\n",
      "olegkovalov        0.99405\n",
      "overtowed          0.99630\n",
      "ozan               0.99965\n",
      "pnathan            0.98730\n",
      "projectgus         0.99740\n",
      "rafaqueque         0.99750\n",
      "rentzsch           0.98990\n",
      "rmurphey           0.98070\n",
      "rose               0.99890\n",
      "rupert             0.99250\n",
      "ryanbigg           0.99320\n",
      "ryanmaynard        0.99260\n",
      "sandfox            0.99480\n",
      "sjs                0.99420\n",
      "sleddog            0.99960\n",
      "smitec             0.98960\n",
      "srgpqt             0.98460\n",
      "techpeace          0.99640\n",
      "tehgeekmeister     0.98910\n",
      "valtsu             0.98490\n",
      "vendion            0.99040\n",
      "wambotron          0.99500\n",
      "wrl                0.99330\n",
      "xtian              0.99340\n",
      "yegor256           0.99990\n",
      "yvonne-chen        0.99150\n",
      "zodvik             0.98220\n",
      "Name: comment_sentiment, Length: 96, dtype: float64\n"
     ]
    }
   ],
   "source": [
    "#Usernames 2 or more standard deviations from the average post comment sentiment mean\n",
    "print(stdev2dfcs)"
   ]
  },
  {
   "cell_type": "code",
   "execution_count": 80,
   "metadata": {},
   "outputs": [
    {
     "name": "stdout",
     "output_type": "stream",
     "text": [
      "Series([], Name: comment_sentiment, dtype: float64)\n"
     ]
    }
   ],
   "source": [
    "#Usernames 1 or more standard deviations from the average post comment sentiment mean\n",
    "print(stdev3dfcs)"
   ]
  },
  {
   "cell_type": "code",
   "execution_count": 55,
   "metadata": {},
   "outputs": [
    {
     "data": {
      "text/plain": [
       "<matplotlib.axes._subplots.AxesSubplot at 0x2561da728d0>"
      ]
     },
     "execution_count": 55,
     "metadata": {},
     "output_type": "execute_result"
    },
    {
     "data": {
      "image/png": "[encoded data removed]",
      "text/plain": [
       "<matplotlib.figure.Figure at 0x2561ecc64e0>"
      ]
     },
     "metadata": {},
     "output_type": "display_data"
    }
   ],
   "source": [
    "#engagement score for all posts\n",
    "df['engagement_score'].hist()"
   ]
  },
  {
   "cell_type": "code",
   "execution_count": 56,
   "metadata": {},
   "outputs": [
    {
     "data": {
      "text/plain": [
       "<matplotlib.axes._subplots.AxesSubplot at 0x25624c31240>"
      ]
     },
     "execution_count": 56,
     "metadata": {},
     "output_type": "execute_result"
    },
    {
     "data": {
      "image/png": "[encoded data removed]",
      "text/plain": [
       "<matplotlib.figure.Figure at 0x25624cbc0b8>"
      ]
     },
     "metadata": {},
     "output_type": "display_data"
    }
   ],
   "source": [
    "#total comment sentiment by username\n",
    "total_comment_sentiment.hist()"
   ]
  },
  {
   "cell_type": "code",
   "execution_count": 57,
   "metadata": {},
   "outputs": [
    {
     "data": {
      "text/plain": [
       "<matplotlib.axes._subplots.AxesSubplot at 0x2561da72828>"
      ]
     },
     "execution_count": 57,
     "metadata": {},
     "output_type": "execute_result"
    },
    {
     "data": {
      "image/png": "[encoded data removed]",
      "text/plain": [
       "<matplotlib.figure.Figure at 0x25626f84f60>"
      ]
     },
     "metadata": {},
     "output_type": "display_data"
    }
   ],
   "source": [
    "#total engagement score by username \n",
    "total_engagement_score_by_usn.hist()"
   ]
  },
  {
   "cell_type": "code",
   "execution_count": 58,
   "metadata": {},
   "outputs": [
    {
     "data": {
      "text/plain": [
       "<matplotlib.axes._subplots.AxesSubplot at 0x25624f598d0>"
      ]
     },
     "execution_count": 58,
     "metadata": {},
     "output_type": "execute_result"
    },
    {
     "data": {
      "image/png": "[encoded data removed]",
      "text/plain": [
       "<matplotlib.figure.Figure at 0x2561db31ac8>"
      ]
     },
     "metadata": {},
     "output_type": "display_data"
    }
   ],
   "source": [
    "#total posts in dataset by username\n",
    "total_posts_by_usn.hist()"
   ]
  },
  {
   "cell_type": "code",
   "execution_count": 59,
   "metadata": {},
   "outputs": [
    {
     "data": {
      "text/plain": [
       "<matplotlib.axes._subplots.AxesSubplot at 0x2561da49668>"
      ]
     },
     "execution_count": 59,
     "metadata": {},
     "output_type": "execute_result"
    },
    {
     "data": {
      "image/png": "[encoded data removed]",
      "text/plain": [
       "<matplotlib.figure.Figure at 0x25626f84048>"
      ]
     },
     "metadata": {},
     "output_type": "display_data"
    }
   ],
   "source": [
    "#average post engagement score by username\n",
    "avg_engagement_by_user.hist()"
   ]
  },
  {
   "cell_type": "code",
   "execution_count": 60,
   "metadata": {},
   "outputs": [
    {
     "data": {
      "text/plain": [
       "<matplotlib.axes._subplots.AxesSubplot at 0x2561e3a3978>"
      ]
     },
     "execution_count": 60,
     "metadata": {},
     "output_type": "execute_result"
    },
    {
     "data": {
      "image/png": "[encoded data removed]",
      "text/plain": [
       "<matplotlib.figure.Figure at 0x2561e14eac8>"
      ]
     },
     "metadata": {},
     "output_type": "display_data"
    }
   ],
   "source": [
    "#average post comment sentiment by username\n",
    "avg_postsent_by_user.hist()"
   ]
  },
  {
   "cell_type": "code",
   "execution_count": 61,
   "metadata": {},
   "outputs": [
    {
     "data": {
      "text/plain": [
       "<matplotlib.axes._subplots.AxesSubplot at 0x25626fa75f8>"
      ]
     },
     "execution_count": 61,
     "metadata": {},
     "output_type": "execute_result"
    },
    {
     "data": {
      "image/png": "[encoded data removed]",
      "text/plain": [
       "<matplotlib.figure.Figure at 0x2561e772518>"
      ]
     },
     "metadata": {},
     "output_type": "display_data"
    }
   ],
   "source": [
    "#average post engagement scores by username 1 or more standard deviations above the mean\n",
    "stdev1df.hist()"
   ]
  },
  {
   "cell_type": "code",
   "execution_count": 62,
   "metadata": {},
   "outputs": [
    {
     "data": {
      "text/plain": [
       "<matplotlib.axes._subplots.AxesSubplot at 0x25626fff908>"
      ]
     },
     "execution_count": 62,
     "metadata": {},
     "output_type": "execute_result"
    },
    {
     "data": {
      "image/png": "[encoded data removed]",
      "text/plain": [
       "<matplotlib.figure.Figure at 0x2561e6d0b70>"
      ]
     },
     "metadata": {},
     "output_type": "display_data"
    }
   ],
   "source": [
    "#average post engagement scores by username 2 or more standard deviations above the mean\n",
    "stdev2df.hist()"
   ]
  },
  {
   "cell_type": "code",
   "execution_count": 63,
   "metadata": {},
   "outputs": [
    {
     "data": {
      "text/plain": [
       "<matplotlib.axes._subplots.AxesSubplot at 0x25624a56048>"
      ]
     },
     "execution_count": 63,
     "metadata": {},
     "output_type": "execute_result"
    },
    {
     "data": {
      "image/png": "[encoded data removed]",
      "text/plain": [
       "<matplotlib.figure.Figure at 0x2562bdb1c88>"
      ]
     },
     "metadata": {},
     "output_type": "display_data"
    }
   ],
   "source": [
    "#average post engagement scores by username 3 or more standard deviations above the mean\n",
    "stdev3df.hist()"
   ]
  },
  {
   "cell_type": "code",
   "execution_count": 75,
   "metadata": {},
   "outputs": [
    {
     "data": {
      "text/plain": [
       "<matplotlib.axes._subplots.AxesSubplot at 0x256383049e8>"
      ]
     },
     "execution_count": 75,
     "metadata": {},
     "output_type": "execute_result"
    },
    {
     "data": {
      "image/png": "[encoded data removed]",
      "text/plain": [
       "<matplotlib.figure.Figure at 0x2561ed72a58>"
      ]
     },
     "metadata": {},
     "output_type": "display_data"
    }
   ],
   "source": [
    "#average post comment sentiment by username 1 or more standard deviations above the mean\n",
    "stdev1dfcs.hist()"
   ]
  },
  {
   "cell_type": "code",
   "execution_count": 76,
   "metadata": {},
   "outputs": [
    {
     "data": {
      "text/plain": [
       "<matplotlib.axes._subplots.AxesSubplot at 0x25630f79048>"
      ]
     },
     "execution_count": 76,
     "metadata": {},
     "output_type": "execute_result"
    },
    {
     "data": {
      "image/png": "[encoded data removed]",
      "text/plain": [
       "<matplotlib.figure.Figure at 0x2563a032b00>"
      ]
     },
     "metadata": {},
     "output_type": "display_data"
    }
   ],
   "source": [
    "#average post comment sentiment by username 2 or more standard deviations above the mean\n",
    "stdev2dfcs.hist()"
   ]
  },
  {
   "cell_type": "code",
   "execution_count": 77,
   "metadata": {},
   "outputs": [
    {
     "data": {
      "text/plain": [
       "<matplotlib.axes._subplots.AxesSubplot at 0x256364f4898>"
      ]
     },
     "execution_count": 77,
     "metadata": {},
     "output_type": "execute_result"
    },
    {
     "data": {
      "image/png": "[encoded data removed]",
      "text/plain": [
       "<matplotlib.figure.Figure at 0x2563b0971d0>"
      ]
     },
     "metadata": {},
     "output_type": "display_data"
    }
   ],
   "source": [
    "#average post comment sentiment by username 3 or more standard deviations above the mean\n",
    "stdev3dfcs.hist()"
   ]
  },
  {
   "cell_type": "code",
   "execution_count": null,
   "metadata": {
    "collapsed": true
   },
   "outputs": [],
   "source": []
  },
  {
   "cell_type": "code",
   "execution_count": null,
   "metadata": {
    "collapsed": true
   },
   "outputs": [],
   "source": []
  },
  {
   "cell_type": "code",
   "execution_count": null,
   "metadata": {
    "collapsed": true
   },
   "outputs": [],
   "source": []
  }
 ],
 "metadata": {
  "kernelspec": {
   "display_name": "Python 3",
   "language": "python",
   "name": "python3"
  },
  "language_info": {
   "codemirror_mode": {
    "name": "ipython",
    "version": 3
   },
   "file_extension": ".py",
   "mimetype": "text/x-python",
   "name": "python",
   "nbconvert_exporter": "python",
   "pygments_lexer": "ipython3",
   "version": "3.6.1"
  }
 },
 "nbformat": 4,
 "nbformat_minor": 2
}
